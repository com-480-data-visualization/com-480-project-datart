{
 "cells": [
  {
   "cell_type": "code",
   "execution_count": 1,
   "metadata": {},
   "outputs": [],
   "source": [
    "import os\n",
    "import time\n",
    "\n",
    "import pandas as pd\n",
    "import numpy as np\n",
    "import matplotlib.pyplot as plt\n",
    "import seaborn as sns\n",
    "\n",
    "from matplotlib import cm as cm"
   ]
  },
  {
   "cell_type": "markdown",
   "metadata": {},
   "source": [
    "# Processing the data"
   ]
  },
  {
   "cell_type": "code",
   "execution_count": 2,
   "metadata": {},
   "outputs": [],
   "source": [
    "df_pop_reg_2002 = pd.read_excel('estim-pop-nreg-sexe-gca-1975-2020.xls', header=[0,1], sheet_name='2002')\n",
    "df_pop_reg_2003 = pd.read_excel('estim-pop-nreg-sexe-gca-1975-2020.xls', header=[0,1], sheet_name='2003')\n",
    "df_pop_reg_2004 = pd.read_excel('estim-pop-nreg-sexe-gca-1975-2020.xls', header=[0,1], sheet_name='2004')\n",
    "df_pop_reg_2005 = pd.read_excel('estim-pop-nreg-sexe-gca-1975-2020.xls', header=[0,1], sheet_name='2005')\n",
    "df_pop_reg_2006 = pd.read_excel('estim-pop-nreg-sexe-gca-1975-2020.xls', header=[0,1], sheet_name='2006')\n",
    "df_pop_reg_2007 = pd.read_excel('estim-pop-nreg-sexe-gca-1975-2020.xls', header=[0,1], sheet_name='2007')\n",
    "df_pop_reg_2008 = pd.read_excel('estim-pop-nreg-sexe-gca-1975-2020.xls', header=[0,1], sheet_name='2008')\n",
    "df_pop_reg_2009 = pd.read_excel('estim-pop-nreg-sexe-gca-1975-2020.xls', header=[0,1], sheet_name='2009')\n",
    "df_pop_reg_2010 = pd.read_excel('estim-pop-nreg-sexe-gca-1975-2020.xls', header=[0,1], sheet_name='2010')\n",
    "df_pop_reg_2011 = pd.read_excel('estim-pop-nreg-sexe-gca-1975-2020.xls', header=[0,1], sheet_name='2011')\n",
    "df_pop_reg_2012 = pd.read_excel('estim-pop-nreg-sexe-gca-1975-2020.xls', header=[0,1], sheet_name='2012')\n",
    "df_pop_reg_2013 = pd.read_excel('estim-pop-nreg-sexe-gca-1975-2020.xls', header=[0,1], sheet_name='2013')\n",
    "df_pop_reg_2014 = pd.read_excel('estim-pop-nreg-sexe-gca-1975-2020.xls', header=[0,1], sheet_name='2014')\n",
    "df_pop_reg_2015 = pd.read_excel('estim-pop-nreg-sexe-gca-1975-2020.xls', header=[0,1], sheet_name='2015')\n",
    "df_pop_reg_2016 = pd.read_excel('estim-pop-nreg-sexe-gca-1975-2020.xls', header=[0,1], sheet_name='2016')\n",
    "df_pop_reg_2017 = pd.read_excel('estim-pop-nreg-sexe-gca-1975-2020.xls', header=[0,1], sheet_name='2017')"
   ]
  },
  {
   "cell_type": "code",
   "execution_count": 3,
   "metadata": {},
   "outputs": [],
   "source": [
    "df_pop_reg_2002['year'] = '2002' \n",
    "df_pop_reg_2003['year'] = '2003' \n",
    "df_pop_reg_2004['year'] = '2004' \n",
    "df_pop_reg_2005['year'] = '2005' \n",
    "df_pop_reg_2006['year'] = '2006' \n",
    "df_pop_reg_2007['year'] = '2007' \n",
    "df_pop_reg_2008['year'] = '2008' \n",
    "df_pop_reg_2009['year'] = '2009' \n",
    "df_pop_reg_2010['year'] = '2010' \n",
    "df_pop_reg_2011['year'] = '2011' \n",
    "df_pop_reg_2012['year'] = '2012' \n",
    "df_pop_reg_2013['year'] = '2013' \n",
    "df_pop_reg_2014['year'] = '2014' \n",
    "df_pop_reg_2015['year'] = '2015'\n",
    "df_pop_reg_2016['year'] = '2015'\n",
    "df_pop_reg_2017['year'] = '2015'"
   ]
  },
  {
   "cell_type": "code",
   "execution_count": 4,
   "metadata": {},
   "outputs": [],
   "source": [
    "df_pop_reg = pd.concat([df_pop_reg_2002, df_pop_reg_2003, df_pop_reg_2004, df_pop_reg_2005, df_pop_reg_2006, df_pop_reg_2007, df_pop_reg_2008,\n",
    "                    df_pop_reg_2009, df_pop_reg_2010, df_pop_reg_2011, df_pop_reg_2012, df_pop_reg_2013, df_pop_reg_2014, df_pop_reg_2015, \n",
    "                    df_pop_reg_2016, df_pop_reg_2017], ignore_index=True)"
   ]
  },
  {
   "cell_type": "code",
   "execution_count": 5,
   "metadata": {},
   "outputs": [
    {
     "data": {
      "text/html": [
       "<div>\n",
       "<style scoped>\n",
       "    .dataframe tbody tr th:only-of-type {\n",
       "        vertical-align: middle;\n",
       "    }\n",
       "\n",
       "    .dataframe tbody tr th {\n",
       "        vertical-align: top;\n",
       "    }\n",
       "\n",
       "    .dataframe thead tr th {\n",
       "        text-align: left;\n",
       "    }\n",
       "</style>\n",
       "<table border=\"1\" class=\"dataframe\">\n",
       "  <thead>\n",
       "    <tr>\n",
       "      <th></th>\n",
       "      <th>Régions</th>\n",
       "      <th colspan=\"6\" halign=\"left\">Ensemble</th>\n",
       "      <th colspan=\"6\" halign=\"left\">Hommes</th>\n",
       "      <th colspan=\"6\" halign=\"left\">Femmes</th>\n",
       "      <th>year</th>\n",
       "    </tr>\n",
       "    <tr>\n",
       "      <th></th>\n",
       "      <th>Unnamed: 0_level_1</th>\n",
       "      <th>0 à 19 ans</th>\n",
       "      <th>20 à 39 ans</th>\n",
       "      <th>40 à 59 ans</th>\n",
       "      <th>60 à 74 ans</th>\n",
       "      <th>75 ans et plus</th>\n",
       "      <th>Total</th>\n",
       "      <th>0 à 19 ans</th>\n",
       "      <th>20 à 39 ans</th>\n",
       "      <th>40 à 59 ans</th>\n",
       "      <th>60 à 74 ans</th>\n",
       "      <th>75 ans et plus</th>\n",
       "      <th>Total</th>\n",
       "      <th>0 à 19 ans</th>\n",
       "      <th>20 à 39 ans</th>\n",
       "      <th>40 à 59 ans</th>\n",
       "      <th>60 à 74 ans</th>\n",
       "      <th>75 ans et plus</th>\n",
       "      <th>Total</th>\n",
       "      <th></th>\n",
       "    </tr>\n",
       "  </thead>\n",
       "  <tbody>\n",
       "    <tr>\n",
       "      <th>215</th>\n",
       "      <td>Martinique</td>\n",
       "      <td>99846</td>\n",
       "      <td>82615</td>\n",
       "      <td>119413</td>\n",
       "      <td>55870</td>\n",
       "      <td>30620</td>\n",
       "      <td>388364</td>\n",
       "      <td>50482</td>\n",
       "      <td>36892</td>\n",
       "      <td>53894</td>\n",
       "      <td>25419</td>\n",
       "      <td>12137</td>\n",
       "      <td>178824</td>\n",
       "      <td>49364</td>\n",
       "      <td>45723</td>\n",
       "      <td>65519</td>\n",
       "      <td>30451</td>\n",
       "      <td>18483</td>\n",
       "      <td>209540</td>\n",
       "      <td>2012</td>\n",
       "    </tr>\n",
       "    <tr>\n",
       "      <th>301</th>\n",
       "      <td>DOM</td>\n",
       "      <td>706605</td>\n",
       "      <td>502300</td>\n",
       "      <td>570573</td>\n",
       "      <td>246581</td>\n",
       "      <td>107794</td>\n",
       "      <td>2133853</td>\n",
       "      <td>357379</td>\n",
       "      <td>229984</td>\n",
       "      <td>268487</td>\n",
       "      <td>115702</td>\n",
       "      <td>42333</td>\n",
       "      <td>1013885</td>\n",
       "      <td>349226</td>\n",
       "      <td>272316</td>\n",
       "      <td>302086</td>\n",
       "      <td>130879</td>\n",
       "      <td>65461</td>\n",
       "      <td>1119968</td>\n",
       "      <td>2015</td>\n",
       "    </tr>\n",
       "    <tr>\n",
       "      <th>260</th>\n",
       "      <td>France métropolitaine et DOM</td>\n",
       "      <td>16294725</td>\n",
       "      <td>16094409</td>\n",
       "      <td>17766581</td>\n",
       "      <td>9980991</td>\n",
       "      <td>5994167</td>\n",
       "      <td>66130873</td>\n",
       "      <td>8335925</td>\n",
       "      <td>7977644</td>\n",
       "      <td>8721616</td>\n",
       "      <td>4729461</td>\n",
       "      <td>2263481</td>\n",
       "      <td>32028127</td>\n",
       "      <td>7958800</td>\n",
       "      <td>8116765</td>\n",
       "      <td>9044965</td>\n",
       "      <td>5251530</td>\n",
       "      <td>3730686</td>\n",
       "      <td>34102746</td>\n",
       "      <td>2014</td>\n",
       "    </tr>\n",
       "  </tbody>\n",
       "</table>\n",
       "</div>"
      ],
      "text/plain": [
       "                          Régions   Ensemble                          \\\n",
       "               Unnamed: 0_level_1 0 à 19 ans 20 à 39 ans 40 à 59 ans   \n",
       "215                   Martinique       99846       82615      119413   \n",
       "301                           DOM     706605      502300      570573   \n",
       "260  France métropolitaine et DOM   16294725    16094409    17766581   \n",
       "\n",
       "                                             Hommes                          \\\n",
       "    60 à 74 ans 75 ans et plus     Total 0 à 19 ans 20 à 39 ans 40 à 59 ans   \n",
       "215       55870          30620    388364      50482       36892       53894   \n",
       "301      246581         107794   2133853     357379      229984      268487   \n",
       "260     9980991        5994167  66130873    8335925     7977644     8721616   \n",
       "\n",
       "                                             Femmes                          \\\n",
       "    60 à 74 ans 75 ans et plus     Total 0 à 19 ans 20 à 39 ans 40 à 59 ans   \n",
       "215       25419          12137    178824      49364       45723       65519   \n",
       "301      115702          42333   1013885     349226      272316      302086   \n",
       "260     4729461        2263481  32028127    7958800     8116765     9044965   \n",
       "\n",
       "                                          year  \n",
       "    60 à 74 ans 75 ans et plus     Total        \n",
       "215       30451          18483    209540  2012  \n",
       "301      130879          65461   1119968  2015  \n",
       "260     5251530        3730686  34102746  2014  "
      ]
     },
     "execution_count": 5,
     "metadata": {},
     "output_type": "execute_result"
    }
   ],
   "source": [
    "df_pop_reg.sample(3)"
   ]
  },
  {
   "cell_type": "code",
   "execution_count": 6,
   "metadata": {},
   "outputs": [],
   "source": [
    "df_rdb_2002 = pd.read_excel('rdb-regions-menages-1994-2015.xls', sheet_name='RDB2002-Déf par hab')\n",
    "df_rdb_2003 = pd.read_excel('rdb-regions-menages-1994-2015.xls', sheet_name='RDB2003-Déf par hab')\n",
    "df_rdb_2004 = pd.read_excel('rdb-regions-menages-1994-2015.xls', sheet_name='RDB2004-Déf par hab')\n",
    "df_rdb_2005 = pd.read_excel('rdb-regions-menages-1994-2015.xls', sheet_name='RDB2005-Déf par hab')\n",
    "df_rdb_2006 = pd.read_excel('rdb-regions-menages-1994-2015.xls', sheet_name='RDB2006-Déf par hab')\n",
    "df_rdb_2007 = pd.read_excel('rdb-regions-menages-1994-2015.xls', sheet_name='RDB2007-Déf par hab')\n",
    "df_rdb_2008 = pd.read_excel('rdb-regions-menages-1994-2015.xls', sheet_name='RDB2008-Déf par hab')\n",
    "df_rdb_2009 = pd.read_excel('rdb-regions-menages-1994-2015.xls', sheet_name='RDB2009-Déf par hab')\n",
    "df_rdb_2010 = pd.read_excel('rdb-regions-menages-1994-2015.xls', sheet_name='RDB2010-Déf par hab')\n",
    "df_rdb_2011 = pd.read_excel('rdb-regions-menages-1994-2015.xls', sheet_name='RDB2011-Def par hab')\n",
    "df_rdb_2012 = pd.read_excel('rdb-regions-menages-1994-2015.xls', sheet_name='RDB2012-Déf par hab')\n",
    "df_rdb_2013 = pd.read_excel('rdb-regions-menages-1994-2015.xls', sheet_name='RDB2013-déf par hab')\n",
    "df_rdb_2014 = pd.read_excel('rdb-regions-menages-1994-2015.xls', sheet_name='RDB2014-déf par hab')\n",
    "df_rdb_2015 = pd.read_excel('rdb-regions-menages-1994-2015.xls', sheet_name='RDB2015-semidéf par hab')"
   ]
  },
  {
   "cell_type": "code",
   "execution_count": 7,
   "metadata": {},
   "outputs": [],
   "source": [
    "df_rdb_2002['year'] = '2002' \n",
    "df_rdb_2003['year'] = '2003' \n",
    "df_rdb_2004['year'] = '2004' \n",
    "df_rdb_2005['year'] = '2005' \n",
    "df_rdb_2006['year'] = '2006' \n",
    "df_rdb_2007['year'] = '2007' \n",
    "df_rdb_2008['year'] = '2008' \n",
    "df_rdb_2009['year'] = '2009' \n",
    "df_rdb_2010['year'] = '2010' \n",
    "df_rdb_2011['year'] = '2011' \n",
    "df_rdb_2012['year'] = '2012' \n",
    "df_rdb_2013['year'] = '2013' \n",
    "df_rdb_2014['year'] = '2014' \n",
    "df_rdb_2015['year'] = '2015' "
   ]
  },
  {
   "cell_type": "code",
   "execution_count": 8,
   "metadata": {},
   "outputs": [],
   "source": [
    "df_rdb = pd.concat([df_rdb_2002, df_rdb_2003, df_rdb_2004, df_rdb_2005, df_rdb_2006, df_rdb_2007, df_rdb_2008, df_rdb_2009, df_rdb_2010,\n",
    "                   df_rdb_2011, df_rdb_2012, df_rdb_2013, df_rdb_2014, df_rdb_2015], ignore_index=True)"
   ]
  },
  {
   "cell_type": "code",
   "execution_count": 9,
   "metadata": {},
   "outputs": [
    {
     "data": {
      "text/html": [
       "<div>\n",
       "<style scoped>\n",
       "    .dataframe tbody tr th:only-of-type {\n",
       "        vertical-align: middle;\n",
       "    }\n",
       "\n",
       "    .dataframe tbody tr th {\n",
       "        vertical-align: top;\n",
       "    }\n",
       "\n",
       "    .dataframe thead th {\n",
       "        text-align: right;\n",
       "    }\n",
       "</style>\n",
       "<table border=\"1\" class=\"dataframe\">\n",
       "  <thead>\n",
       "    <tr style=\"text-align: right;\">\n",
       "      <th></th>\n",
       "      <th>Régions</th>\n",
       "      <th>Excédent brut et revenu mixte</th>\n",
       "      <th>Salaires et traitements bruts</th>\n",
       "      <th>Cotisations sociales des salariés et des non-salariés</th>\n",
       "      <th>Impôts</th>\n",
       "      <th>Prestations en espèces</th>\n",
       "      <th>Autres (1)</th>\n",
       "      <th>Revenu disponible brut</th>\n",
       "      <th>year</th>\n",
       "    </tr>\n",
       "  </thead>\n",
       "  <tbody>\n",
       "    <tr>\n",
       "      <th>62</th>\n",
       "      <td>Guadeloupe</td>\n",
       "      <td>2277.0</td>\n",
       "      <td>6828.0</td>\n",
       "      <td>497.0</td>\n",
       "      <td>923.0</td>\n",
       "      <td>2874.0</td>\n",
       "      <td>229.0</td>\n",
       "      <td>10788.0</td>\n",
       "      <td>2004</td>\n",
       "    </tr>\n",
       "    <tr>\n",
       "      <th>45</th>\n",
       "      <td>France (France métropolitaine+DOM+Hors territo...</td>\n",
       "      <td>3877.0</td>\n",
       "      <td>10047.0</td>\n",
       "      <td>1645.0</td>\n",
       "      <td>2279.0</td>\n",
       "      <td>5063.0</td>\n",
       "      <td>1480.0</td>\n",
       "      <td>16543.0</td>\n",
       "      <td>2003</td>\n",
       "    </tr>\n",
       "    <tr>\n",
       "      <th>78</th>\n",
       "      <td>Nouvelle-Aquitaine</td>\n",
       "      <td>4326.0</td>\n",
       "      <td>9304.0</td>\n",
       "      <td>1657.0</td>\n",
       "      <td>2098.0</td>\n",
       "      <td>5652.0</td>\n",
       "      <td>1480.0</td>\n",
       "      <td>17007.0</td>\n",
       "      <td>2005</td>\n",
       "    </tr>\n",
       "  </tbody>\n",
       "</table>\n",
       "</div>"
      ],
      "text/plain": [
       "                                              Régions  \\\n",
       "62                                         Guadeloupe   \n",
       "45  France (France métropolitaine+DOM+Hors territo...   \n",
       "78                                 Nouvelle-Aquitaine   \n",
       "\n",
       "    Excédent brut et revenu mixte  Salaires et traitements bruts  \\\n",
       "62                         2277.0                         6828.0   \n",
       "45                         3877.0                        10047.0   \n",
       "78                         4326.0                         9304.0   \n",
       "\n",
       "    Cotisations sociales des salariés et des non-salariés  \\\n",
       "62                                              497.0       \n",
       "45                                             1645.0       \n",
       "78                                             1657.0       \n",
       "\n",
       "    Impôts                 Prestations en espèces  Autres (1)  \\\n",
       "62                  923.0                  2874.0       229.0   \n",
       "45                 2279.0                  5063.0      1480.0   \n",
       "78                 2098.0                  5652.0      1480.0   \n",
       "\n",
       "    Revenu disponible brut  year  \n",
       "62                 10788.0  2004  \n",
       "45                 16543.0  2003  \n",
       "78                 17007.0  2005  "
      ]
     },
     "execution_count": 9,
     "metadata": {},
     "output_type": "execute_result"
    }
   ],
   "source": [
    "df_rdb.sample(3)"
   ]
  },
  {
   "cell_type": "markdown",
   "metadata": {},
   "source": [
    "# Analysis on Population"
   ]
  },
  {
   "cell_type": "code",
   "execution_count": 10,
   "metadata": {},
   "outputs": [],
   "source": [
    "df_pop_reg_men = df_pop_reg[['Hommes', 'Régions', 'year']]\n",
    "df_pop_reg_women = df_pop_reg[['Femmes', 'Régions', 'year']]\n",
    "df_pop_reg_all = df_pop_reg[['Ensemble', 'Régions', 'year']]"
   ]
  },
  {
   "cell_type": "code",
   "execution_count": 11,
   "metadata": {},
   "outputs": [],
   "source": [
    "def process_pop(df):\n",
    "    tmp = df.copy()\n",
    "    tmp.columns = tmp.columns.droplevel()\n",
    "    tmp = tmp.rename(columns={'Unnamed: 0_level_1':'region', '':'year'})\n",
    "    return tmp"
   ]
  },
  {
   "cell_type": "code",
   "execution_count": 12,
   "metadata": {},
   "outputs": [],
   "source": [
    "df_pop_reg_men = process_pop(df_pop_reg_men)\n",
    "df_pop_reg_women = process_pop(df_pop_reg_women)\n",
    "df_pop_reg_all = process_pop(df_pop_reg_all)"
   ]
  },
  {
   "cell_type": "code",
   "execution_count": 13,
   "metadata": {},
   "outputs": [],
   "source": [
    "df_pop_reg_men['gender'] = 'male'\n",
    "df_pop_reg_women['gender'] = 'female'\n",
    "\n",
    "df_pop_reg_joined = pd.concat([df_pop_reg_men, df_pop_reg_women], ignore_index=True )"
   ]
  },
  {
   "cell_type": "code",
   "execution_count": 14,
   "metadata": {},
   "outputs": [
    {
     "data": {
      "text/html": [
       "<div>\n",
       "<style scoped>\n",
       "    .dataframe tbody tr th:only-of-type {\n",
       "        vertical-align: middle;\n",
       "    }\n",
       "\n",
       "    .dataframe tbody tr th {\n",
       "        vertical-align: top;\n",
       "    }\n",
       "\n",
       "    .dataframe thead th {\n",
       "        text-align: right;\n",
       "    }\n",
       "</style>\n",
       "<table border=\"1\" class=\"dataframe\">\n",
       "  <thead>\n",
       "    <tr style=\"text-align: right;\">\n",
       "      <th></th>\n",
       "      <th>0 à 19 ans</th>\n",
       "      <th>20 à 39 ans</th>\n",
       "      <th>40 à 59 ans</th>\n",
       "      <th>60 à 74 ans</th>\n",
       "      <th>75 ans et plus</th>\n",
       "      <th>Total</th>\n",
       "      <th>region</th>\n",
       "      <th>year</th>\n",
       "      <th>gender</th>\n",
       "    </tr>\n",
       "  </thead>\n",
       "  <tbody>\n",
       "    <tr>\n",
       "      <th>437</th>\n",
       "      <td>7476232</td>\n",
       "      <td>8120110</td>\n",
       "      <td>8677494</td>\n",
       "      <td>4280342</td>\n",
       "      <td>3323482</td>\n",
       "      <td>31877660</td>\n",
       "      <td>France métropolitaine</td>\n",
       "      <td>2007</td>\n",
       "      <td>female</td>\n",
       "    </tr>\n",
       "    <tr>\n",
       "      <th>29</th>\n",
       "      <td>626735</td>\n",
       "      <td>682617</td>\n",
       "      <td>733709</td>\n",
       "      <td>380243</td>\n",
       "      <td>198411</td>\n",
       "      <td>2621715</td>\n",
       "      <td>Nouvelle-Aquitaine</td>\n",
       "      <td>2003</td>\n",
       "      <td>male</td>\n",
       "    </tr>\n",
       "    <tr>\n",
       "      <th>46</th>\n",
       "      <td>838391</td>\n",
       "      <td>806338</td>\n",
       "      <td>776695</td>\n",
       "      <td>296242</td>\n",
       "      <td>138264</td>\n",
       "      <td>2855930</td>\n",
       "      <td>Hauts-de-France</td>\n",
       "      <td>2004</td>\n",
       "      <td>male</td>\n",
       "    </tr>\n",
       "  </tbody>\n",
       "</table>\n",
       "</div>"
      ],
      "text/plain": [
       "     0 à 19 ans  20 à 39 ans  40 à 59 ans  60 à 74 ans  75 ans et plus  \\\n",
       "437     7476232      8120110      8677494      4280342         3323482   \n",
       "29       626735       682617       733709       380243          198411   \n",
       "46       838391       806338       776695       296242          138264   \n",
       "\n",
       "        Total                 region  year  gender  \n",
       "437  31877660  France métropolitaine  2007  female  \n",
       "29    2621715     Nouvelle-Aquitaine  2003    male  \n",
       "46    2855930        Hauts-de-France  2004    male  "
      ]
     },
     "execution_count": 14,
     "metadata": {},
     "output_type": "execute_result"
    }
   ],
   "source": [
    "df_pop_reg_joined.sample(3)"
   ]
  },
  {
   "cell_type": "code",
   "execution_count": 15,
   "metadata": {},
   "outputs": [],
   "source": [
    "# Gender & Region\n",
    "tmp_gr = df_pop_reg_joined.groupby(['gender', 'year', 'region'])['Total'].sum()\n",
    "gr = pd.DataFrame(tmp_gr).reset_index()"
   ]
  },
  {
   "cell_type": "code",
   "execution_count": 16,
   "metadata": {},
   "outputs": [],
   "source": [
    "tmp_total = df_pop_reg_joined.groupby(['year'])['Total'].sum()\n",
    "total = pd.DataFrame(tmp_total).reset_index()"
   ]
  },
  {
   "cell_type": "code",
   "execution_count": 17,
   "metadata": {},
   "outputs": [
    {
     "data": {
      "image/png": "[encoded data removed]",
      "text/plain": [
       "<Figure size 432x288 with 1 Axes>"
      ]
     },
     "metadata": {
      "needs_background": "light"
     },
     "output_type": "display_data"
    }
   ],
   "source": [
    "fig = total.plot(x='year', y='Total', kind='line')\n",
    "plt.rcParams['axes.facecolor'] = 'white'\n",
    "plt.title('Evolution of Population over the years')\n",
    "plt.xlabel(\"years\")\n",
    "plt.ylabel(\"Number of inhabitants\")\n",
    "plt.show();"
   ]
  },
  {
   "cell_type": "code",
   "execution_count": 18,
   "metadata": {},
   "outputs": [
    {
     "data": {
      "image/png": "[encoded data removed]",
      "text/plain": [
       "<Figure size 432x288 with 2 Axes>"
      ]
     },
     "metadata": {
      "needs_background": "light"
     },
     "output_type": "display_data"
    }
   ],
   "source": [
    "# plot the heatmap on Seaborn\n",
    "corr = df_pop_reg_joined.corr()\n",
    "sns.heatmap(corr,\n",
    "xticklabels=corr.columns,\n",
    "yticklabels=corr.columns);"
   ]
  },
  {
   "cell_type": "markdown",
   "metadata": {},
   "source": [
    "# Analysis on Revenue"
   ]
  },
  {
   "cell_type": "code",
   "execution_count": 19,
   "metadata": {},
   "outputs": [],
   "source": [
    "revenue_per_region = df_rdb.groupby(['Régions', 'year'])['Revenu disponible brut'].mean()"
   ]
  },
  {
   "cell_type": "code",
   "execution_count": 20,
   "metadata": {},
   "outputs": [],
   "source": [
    "rpg = pd.DataFrame(revenue_per_region).reset_index()"
   ]
  },
  {
   "cell_type": "code",
   "execution_count": 21,
   "metadata": {},
   "outputs": [],
   "source": [
    "rpg_year = rpg.groupby('year').mean().reset_index()\n",
    "rpg_region = rpg.groupby('Régions').mean().reset_index()"
   ]
  },
  {
   "cell_type": "code",
   "execution_count": 22,
   "metadata": {},
   "outputs": [
    {
     "data": {
      "image/png": "[encoded data removed]",
      "text/plain": [
       "<Figure size 432x288 with 1 Axes>"
      ]
     },
     "metadata": {
      "needs_background": "light"
     },
     "output_type": "display_data"
    }
   ],
   "source": [
    "fig = rpg_year.plot(x='year', y='Revenu disponible brut', kind='line')\n",
    "plt.rcParams['axes.facecolor'] = 'white'\n",
    "plt.title('Evolution of the Mean Revenue over the years')\n",
    "plt.xlabel(\"years\")\n",
    "plt.ylabel(\"Revenue per inhabitant\")\n",
    "plt.show();"
   ]
  },
  {
   "cell_type": "code",
   "execution_count": 23,
   "metadata": {},
   "outputs": [
    {
     "data": {
      "image/png": "[encoded data removed]",
      "text/plain": [
       "<Figure size 432x288 with 1 Axes>"
      ]
     },
     "metadata": {
      "needs_background": "light"
     },
     "output_type": "display_data"
    }
   ],
   "source": [
    "fig = rpg_region.plot(x='Régions', y='Revenu disponible brut', kind='barh')\n",
    "plt.rcParams['axes.facecolor'] = 'white'\n",
    "plt.title('Mean Revenue per region (between 2002 and 2015)')\n",
    "plt.xlabel(\"Revenue per inhabitant\")\n",
    "plt.ylabel(\"Regions\")\n",
    "plt.show();"
   ]
  },
  {
   "cell_type": "code",
   "execution_count": 24,
   "metadata": {},
   "outputs": [
    {
     "data": {
      "image/png": "[encoded data removed]",
      "text/plain": [
       "<Figure size 432x288 with 2 Axes>"
      ]
     },
     "metadata": {
      "needs_background": "light"
     },
     "output_type": "display_data"
    }
   ],
   "source": [
    "# plot the heatmap on Seaborn\n",
    "corr = df_rdb.corr()\n",
    "sns.heatmap(corr,\n",
    "xticklabels=corr.columns,\n",
    "yticklabels=corr.columns);"
   ]
  },
  {
   "cell_type": "markdown",
   "metadata": {},
   "source": [
    "# Additional Information"
   ]
  },
  {
   "cell_type": "markdown",
   "metadata": {},
   "source": [
    "<u> list of ideas </u> :\n",
    "\n",
    "    - for every region, use an iconic element of this region, and do a \"pie-chart\" like version of it with gender/age\n",
    "    - a disease-like visualization (many points in a square) with the evolution of the gender/age over the years\n",
    "    - violin plots for the distribution of the revenue over each region"
   ]
  },
  {
   "cell_type": "code",
   "execution_count": 25,
   "metadata": {},
   "outputs": [],
   "source": [
    "def correlation_matrix(df, method):\n",
    "    \n",
    "    \"\"\"\n",
    "    Method used for plotting a correlation matrix depending on the method asked.\n",
    "    \"\"\"\n",
    "    \n",
    "    fig = plt.figure()\n",
    "    ax1 = fig.add_subplot(111)\n",
    "    cmap = cm.get_cmap('jet', 30)\n",
    "    corr_matrix = df.corr(method)\n",
    "    cax = ax1.imshow(corr_matrix,interpolation=\"nearest\", cmap=cmap)\n",
    "    ax1.grid(True)\n",
    "    plt.title('Emo-DB Feature ' + method + ' Correlation')\n",
    "    labels = corr_matrix.columns\n",
    "    ax1.set_xticklabels(labels,fontsize=6)\n",
    "    ax1.set_yticklabels(labels,fontsize=6)\n",
    "    # Add colorbar, make sure to specify tick locations to match desired ticklabels\n",
    "    fig.colorbar(cax, ticks=[-0.25, 0,.25,.5,.75,1])\n",
    "    plt.show()"
   ]
  }
 ],
 "metadata": {
  "kernelspec": {
   "display_name": "Python 3",
   "language": "python",
   "name": "python3"
  },
  "language_info": {
   "codemirror_mode": {
    "name": "ipython",
    "version": 3
   },
   "file_extension": ".py",
   "mimetype": "text/x-python",
   "name": "python",
   "nbconvert_exporter": "python",
   "pygments_lexer": "ipython3",
   "version": "3.6.0"
  }
 },
 "nbformat": 4,
 "nbformat_minor": 4
}
