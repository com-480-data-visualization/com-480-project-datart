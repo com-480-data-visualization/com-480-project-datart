{
 "cells": [
  {
   "cell_type": "code",
   "execution_count": 1,
   "metadata": {},
   "outputs": [],
   "source": [
    "import os\n",
    "import time\n",
    "\n",
    "import pandas as pd\n",
    "import numpy as np\n",
    "import matplotlib.pyplot as plt\n",
    "import seaborn as sns\n",
    "\n",
    "from matplotlib import cm as cm\n",
    "from functools import reduce"
   ]
  },
  {
   "cell_type": "markdown",
   "metadata": {},
   "source": [
    "#  Data Cleaning and Pre-processing"
   ]
  },
  {
   "cell_type": "markdown",
   "metadata": {},
   "source": [
    "## 1. Gender and Age "
   ]
  },
  {
   "cell_type": "code",
   "execution_count": 2,
   "metadata": {},
   "outputs": [],
   "source": [
    "# Merging all the years into a single dataframe \n",
    "\n",
    "df_pop_reg_2002 = pd.read_excel('estim-pop-nreg-sexe-gca-1975-2020.xls', header=[0,1], sheet_name='2002')\n",
    "df_pop_reg_2003 = pd.read_excel('estim-pop-nreg-sexe-gca-1975-2020.xls', header=[0,1], sheet_name='2003')\n",
    "df_pop_reg_2004 = pd.read_excel('estim-pop-nreg-sexe-gca-1975-2020.xls', header=[0,1], sheet_name='2004')\n",
    "df_pop_reg_2005 = pd.read_excel('estim-pop-nreg-sexe-gca-1975-2020.xls', header=[0,1], sheet_name='2005')\n",
    "df_pop_reg_2006 = pd.read_excel('estim-pop-nreg-sexe-gca-1975-2020.xls', header=[0,1], sheet_name='2006')\n",
    "df_pop_reg_2007 = pd.read_excel('estim-pop-nreg-sexe-gca-1975-2020.xls', header=[0,1], sheet_name='2007')\n",
    "df_pop_reg_2008 = pd.read_excel('estim-pop-nreg-sexe-gca-1975-2020.xls', header=[0,1], sheet_name='2008')\n",
    "df_pop_reg_2009 = pd.read_excel('estim-pop-nreg-sexe-gca-1975-2020.xls', header=[0,1], sheet_name='2009')\n",
    "df_pop_reg_2010 = pd.read_excel('estim-pop-nreg-sexe-gca-1975-2020.xls', header=[0,1], sheet_name='2010')\n",
    "df_pop_reg_2011 = pd.read_excel('estim-pop-nreg-sexe-gca-1975-2020.xls', header=[0,1], sheet_name='2011')\n",
    "df_pop_reg_2012 = pd.read_excel('estim-pop-nreg-sexe-gca-1975-2020.xls', header=[0,1], sheet_name='2012')\n",
    "df_pop_reg_2013 = pd.read_excel('estim-pop-nreg-sexe-gca-1975-2020.xls', header=[0,1], sheet_name='2013')\n",
    "df_pop_reg_2014 = pd.read_excel('estim-pop-nreg-sexe-gca-1975-2020.xls', header=[0,1], sheet_name='2014')\n",
    "df_pop_reg_2015 = pd.read_excel('estim-pop-nreg-sexe-gca-1975-2020.xls', header=[0,1], sheet_name='2015')\n",
    "df_pop_reg_2016 = pd.read_excel('estim-pop-nreg-sexe-gca-1975-2020.xls', header=[0,1], sheet_name='2016')\n",
    "df_pop_reg_2017 = pd.read_excel('estim-pop-nreg-sexe-gca-1975-2020.xls', header=[0,1], sheet_name='2017')\n",
    "\n",
    "df_pop_reg_2002['year'] = '2002' \n",
    "df_pop_reg_2003['year'] = '2003' \n",
    "df_pop_reg_2004['year'] = '2004' \n",
    "df_pop_reg_2005['year'] = '2005' \n",
    "df_pop_reg_2006['year'] = '2006' \n",
    "df_pop_reg_2007['year'] = '2007' \n",
    "df_pop_reg_2008['year'] = '2008' \n",
    "df_pop_reg_2009['year'] = '2009' \n",
    "df_pop_reg_2010['year'] = '2010' \n",
    "df_pop_reg_2011['year'] = '2011' \n",
    "df_pop_reg_2012['year'] = '2012' \n",
    "df_pop_reg_2013['year'] = '2013' \n",
    "df_pop_reg_2014['year'] = '2014' \n",
    "df_pop_reg_2015['year'] = '2015'\n",
    "df_pop_reg_2016['year'] = '2016'\n",
    "df_pop_reg_2017['year'] = '2017'"
   ]
  },
  {
   "cell_type": "code",
   "execution_count": 3,
   "metadata": {},
   "outputs": [],
   "source": [
    "# Concatenation Operation over our sub-dataframes\n",
    "\n",
    "df_pop_reg = pd.concat([df_pop_reg_2002, df_pop_reg_2003, df_pop_reg_2004, df_pop_reg_2005, df_pop_reg_2006, df_pop_reg_2007, df_pop_reg_2008,\n",
    "                    df_pop_reg_2009, df_pop_reg_2010, df_pop_reg_2011, df_pop_reg_2012, df_pop_reg_2013, df_pop_reg_2014, df_pop_reg_2015, \n",
    "                    df_pop_reg_2016, df_pop_reg_2017], ignore_index=True)"
   ]
  },
  {
   "cell_type": "code",
   "execution_count": 4,
   "metadata": {},
   "outputs": [
    {
     "data": {
      "text/html": [
       "<div>\n",
       "<style scoped>\n",
       "    .dataframe tbody tr th:only-of-type {\n",
       "        vertical-align: middle;\n",
       "    }\n",
       "\n",
       "    .dataframe tbody tr th {\n",
       "        vertical-align: top;\n",
       "    }\n",
       "\n",
       "    .dataframe thead tr th {\n",
       "        text-align: left;\n",
       "    }\n",
       "</style>\n",
       "<table border=\"1\" class=\"dataframe\">\n",
       "  <thead>\n",
       "    <tr>\n",
       "      <th></th>\n",
       "      <th>Régions</th>\n",
       "      <th colspan=\"6\" halign=\"left\">Ensemble</th>\n",
       "      <th colspan=\"6\" halign=\"left\">Hommes</th>\n",
       "      <th colspan=\"6\" halign=\"left\">Femmes</th>\n",
       "      <th>year</th>\n",
       "    </tr>\n",
       "    <tr>\n",
       "      <th></th>\n",
       "      <th>Unnamed: 0_level_1</th>\n",
       "      <th>0 à 19 ans</th>\n",
       "      <th>20 à 39 ans</th>\n",
       "      <th>40 à 59 ans</th>\n",
       "      <th>60 à 74 ans</th>\n",
       "      <th>75 ans et plus</th>\n",
       "      <th>Total</th>\n",
       "      <th>0 à 19 ans</th>\n",
       "      <th>20 à 39 ans</th>\n",
       "      <th>40 à 59 ans</th>\n",
       "      <th>60 à 74 ans</th>\n",
       "      <th>75 ans et plus</th>\n",
       "      <th>Total</th>\n",
       "      <th>0 à 19 ans</th>\n",
       "      <th>20 à 39 ans</th>\n",
       "      <th>40 à 59 ans</th>\n",
       "      <th>60 à 74 ans</th>\n",
       "      <th>75 ans et plus</th>\n",
       "      <th>Total</th>\n",
       "      <th></th>\n",
       "    </tr>\n",
       "  </thead>\n",
       "  <tbody>\n",
       "    <tr>\n",
       "      <th>117</th>\n",
       "      <td>La Réunion</td>\n",
       "      <td>278190</td>\n",
       "      <td>227692</td>\n",
       "      <td>200272</td>\n",
       "      <td>63748</td>\n",
       "      <td>24205</td>\n",
       "      <td>794107</td>\n",
       "      <td>141874</td>\n",
       "      <td>107793</td>\n",
       "      <td>97687</td>\n",
       "      <td>29243</td>\n",
       "      <td>8738</td>\n",
       "      <td>385335</td>\n",
       "      <td>136316</td>\n",
       "      <td>119899</td>\n",
       "      <td>102585</td>\n",
       "      <td>34505</td>\n",
       "      <td>15467</td>\n",
       "      <td>408772</td>\n",
       "      <td>2007</td>\n",
       "    </tr>\n",
       "    <tr>\n",
       "      <th>29</th>\n",
       "      <td>Nouvelle-Aquitaine</td>\n",
       "      <td>1223605</td>\n",
       "      <td>1366171</td>\n",
       "      <td>1491328</td>\n",
       "      <td>815383</td>\n",
       "      <td>535258</td>\n",
       "      <td>5431745</td>\n",
       "      <td>626735</td>\n",
       "      <td>682617</td>\n",
       "      <td>733709</td>\n",
       "      <td>380243</td>\n",
       "      <td>198411</td>\n",
       "      <td>2621715</td>\n",
       "      <td>596870</td>\n",
       "      <td>683554</td>\n",
       "      <td>757619</td>\n",
       "      <td>435140</td>\n",
       "      <td>336847</td>\n",
       "      <td>2810030</td>\n",
       "      <td>2003</td>\n",
       "    </tr>\n",
       "    <tr>\n",
       "      <th>105</th>\n",
       "      <td>Grand Est</td>\n",
       "      <td>1354776</td>\n",
       "      <td>1450845</td>\n",
       "      <td>1562624</td>\n",
       "      <td>702098</td>\n",
       "      <td>436273</td>\n",
       "      <td>5506616</td>\n",
       "      <td>693412</td>\n",
       "      <td>731643</td>\n",
       "      <td>776846</td>\n",
       "      <td>330449</td>\n",
       "      <td>154360</td>\n",
       "      <td>2686710</td>\n",
       "      <td>661364</td>\n",
       "      <td>719202</td>\n",
       "      <td>785778</td>\n",
       "      <td>371649</td>\n",
       "      <td>281913</td>\n",
       "      <td>2819906</td>\n",
       "      <td>2007</td>\n",
       "    </tr>\n",
       "  </tbody>\n",
       "</table>\n",
       "</div>"
      ],
      "text/plain": [
       "                Régions   Ensemble                                      \\\n",
       "     Unnamed: 0_level_1 0 à 19 ans 20 à 39 ans 40 à 59 ans 60 à 74 ans   \n",
       "117          La Réunion     278190      227692      200272       63748   \n",
       "29   Nouvelle-Aquitaine    1223605     1366171     1491328      815383   \n",
       "105           Grand Est    1354776     1450845     1562624      702098   \n",
       "\n",
       "                                Hommes                                      \\\n",
       "    75 ans et plus    Total 0 à 19 ans 20 à 39 ans 40 à 59 ans 60 à 74 ans   \n",
       "117          24205   794107     141874      107793       97687       29243   \n",
       "29          535258  5431745     626735      682617      733709      380243   \n",
       "105         436273  5506616     693412      731643      776846      330449   \n",
       "\n",
       "                                Femmes                                      \\\n",
       "    75 ans et plus    Total 0 à 19 ans 20 à 39 ans 40 à 59 ans 60 à 74 ans   \n",
       "117           8738   385335     136316      119899      102585       34505   \n",
       "29          198411  2621715     596870      683554      757619      435140   \n",
       "105         154360  2686710     661364      719202      785778      371649   \n",
       "\n",
       "                             year  \n",
       "    75 ans et plus    Total        \n",
       "117          15467   408772  2007  \n",
       "29          336847  2810030  2003  \n",
       "105         281913  2819906  2007  "
      ]
     },
     "execution_count": 4,
     "metadata": {},
     "output_type": "execute_result"
    }
   ],
   "source": [
    "# Sample of our dataframe\n",
    "df_pop_reg.sample(3)"
   ]
  },
  {
   "cell_type": "code",
   "execution_count": 5,
   "metadata": {},
   "outputs": [
    {
     "name": "stdout",
     "output_type": "stream",
     "text": [
      "the shape of this resulting dataset is : (324, 20)\n"
     ]
    }
   ],
   "source": [
    "print('the shape of this resulting dataset is :', df_pop_reg.shape)"
   ]
  },
  {
   "cell_type": "code",
   "execution_count": 6,
   "metadata": {},
   "outputs": [],
   "source": [
    "def process_pop(df):\n",
    "    tmp = df.copy()\n",
    "    tmp.columns = tmp.columns.droplevel()\n",
    "    tmp = tmp.rename(columns={'Unnamed: 0_level_1':'region', '':'year'})\n",
    "    return tmp"
   ]
  },
  {
   "cell_type": "code",
   "execution_count": 7,
   "metadata": {},
   "outputs": [],
   "source": [
    "# Splitting by gender in order to get the final dataframe\n",
    "\n",
    "df_pop_reg_men = df_pop_reg[['Hommes', 'Régions', 'year']]\n",
    "df_pop_reg_women = df_pop_reg[['Femmes', 'Régions', 'year']]\n",
    "df_pop_reg_all = df_pop_reg[['Ensemble', 'Régions', 'year']]\n",
    "\n",
    "df_pop_reg_men = process_pop(df_pop_reg_men)\n",
    "df_pop_reg_women = process_pop(df_pop_reg_women)\n",
    "df_pop_reg_all = process_pop(df_pop_reg_all)\n",
    "\n",
    "df_pop_reg_men['gender'] = 'male'\n",
    "df_pop_reg_women['gender'] = 'female'\n",
    "\n",
    "df_pop_reg_joined = pd.concat([df_pop_reg_men, df_pop_reg_women], ignore_index=True )"
   ]
  },
  {
   "cell_type": "code",
   "execution_count": 8,
   "metadata": {},
   "outputs": [
    {
     "data": {
      "text/html": [
       "<div>\n",
       "<style scoped>\n",
       "    .dataframe tbody tr th:only-of-type {\n",
       "        vertical-align: middle;\n",
       "    }\n",
       "\n",
       "    .dataframe tbody tr th {\n",
       "        vertical-align: top;\n",
       "    }\n",
       "\n",
       "    .dataframe thead th {\n",
       "        text-align: right;\n",
       "    }\n",
       "</style>\n",
       "<table border=\"1\" class=\"dataframe\">\n",
       "  <thead>\n",
       "    <tr style=\"text-align: right;\">\n",
       "      <th></th>\n",
       "      <th>0 à 19 ans</th>\n",
       "      <th>20 à 39 ans</th>\n",
       "      <th>40 à 59 ans</th>\n",
       "      <th>60 à 74 ans</th>\n",
       "      <th>75 ans et plus</th>\n",
       "      <th>Total</th>\n",
       "      <th>region</th>\n",
       "      <th>year</th>\n",
       "      <th>gender</th>\n",
       "    </tr>\n",
       "  </thead>\n",
       "  <tbody>\n",
       "    <tr>\n",
       "      <th>595</th>\n",
       "      <td>643641</td>\n",
       "      <td>665758</td>\n",
       "      <td>786220</td>\n",
       "      <td>515394</td>\n",
       "      <td>371257</td>\n",
       "      <td>2982270</td>\n",
       "      <td>Occitanie</td>\n",
       "      <td>2015</td>\n",
       "      <td>female</td>\n",
       "    </tr>\n",
       "    <tr>\n",
       "      <th>344</th>\n",
       "      <td>882260</td>\n",
       "      <td>977120</td>\n",
       "      <td>973884</td>\n",
       "      <td>499361</td>\n",
       "      <td>349055</td>\n",
       "      <td>3681680</td>\n",
       "      <td>Auvergne-Rhône-Alpes</td>\n",
       "      <td>2003</td>\n",
       "      <td>female</td>\n",
       "    </tr>\n",
       "    <tr>\n",
       "      <th>491</th>\n",
       "      <td>1500287</td>\n",
       "      <td>1790007</td>\n",
       "      <td>1609778</td>\n",
       "      <td>707436</td>\n",
       "      <td>487492</td>\n",
       "      <td>6095000</td>\n",
       "      <td>Île-de-France</td>\n",
       "      <td>2010</td>\n",
       "      <td>female</td>\n",
       "    </tr>\n",
       "  </tbody>\n",
       "</table>\n",
       "</div>"
      ],
      "text/plain": [
       "     0 à 19 ans  20 à 39 ans  40 à 59 ans  60 à 74 ans  75 ans et plus  \\\n",
       "595      643641       665758       786220       515394          371257   \n",
       "344      882260       977120       973884       499361          349055   \n",
       "491     1500287      1790007      1609778       707436          487492   \n",
       "\n",
       "       Total                region  year  gender  \n",
       "595  2982270             Occitanie  2015  female  \n",
       "344  3681680  Auvergne-Rhône-Alpes  2003  female  \n",
       "491  6095000         Île-de-France  2010  female  "
      ]
     },
     "execution_count": 8,
     "metadata": {},
     "output_type": "execute_result"
    }
   ],
   "source": [
    "df_pop_reg_joined.sample(3)"
   ]
  },
  {
   "cell_type": "code",
   "execution_count": 14,
   "metadata": {},
   "outputs": [],
   "source": [
    "#df_pop_reg_all.to_csv('all_genders.csv')"
   ]
  },
  {
   "cell_type": "code",
   "execution_count": 17,
   "metadata": {},
   "outputs": [],
   "source": [
    "#df_pop_reg_men_tmp = df_pop_reg_men.groupby(['gender','year','region'])['Total'].mean()\n",
    "#df_pop_reg_men_new = pd.DataFrame(df_pop_reg_men_tmp).reset_index()\n",
    "#df_pop_reg_men_new.rename(columns={'Total':'total_men'}, inplace=True)\n",
    "\n",
    "#df_pop_reg_women_tmp = df_pop_reg_women.groupby(['gender','year','region'])['Total'].mean()\n",
    "#df_pop_reg_women_new = pd.DataFrame(df_pop_reg_women_tmp).reset_index()\n",
    "#df_pop_reg_women_new.rename(columns={'Total':'total_women'}, inplace=True)\n",
    "\n",
    "#df_pop_reg_men_new.to_csv('study_men.csv')\n",
    "#df_pop_reg_women_new.to_csv('study_women.csv')\n",
    "\n",
    "#df_pop_reg_joined.to_csv('gender_study.csv')\n",
    "#df_pop_reg_joined.region.drop_duplicates().tolist()"
   ]
  },
  {
   "cell_type": "code",
   "execution_count": 15,
   "metadata": {},
   "outputs": [
    {
     "name": "stdout",
     "output_type": "stream",
     "text": [
      "the shape of this resulting dataset is : (648, 9)\n"
     ]
    }
   ],
   "source": [
    "print('the shape of this resulting dataset is :', df_pop_reg_joined.shape)"
   ]
  },
  {
   "cell_type": "code",
   "execution_count": 16,
   "metadata": {},
   "outputs": [
    {
     "data": {
      "text/html": [
       "<div>\n",
       "<style scoped>\n",
       "    .dataframe tbody tr th:only-of-type {\n",
       "        vertical-align: middle;\n",
       "    }\n",
       "\n",
       "    .dataframe tbody tr th {\n",
       "        vertical-align: top;\n",
       "    }\n",
       "\n",
       "    .dataframe thead th {\n",
       "        text-align: right;\n",
       "    }\n",
       "</style>\n",
       "<table border=\"1\" class=\"dataframe\">\n",
       "  <thead>\n",
       "    <tr style=\"text-align: right;\">\n",
       "      <th></th>\n",
       "      <th>0 à 19 ans</th>\n",
       "      <th>20 à 39 ans</th>\n",
       "      <th>40 à 59 ans</th>\n",
       "      <th>60 à 74 ans</th>\n",
       "      <th>75 ans et plus</th>\n",
       "      <th>Total</th>\n",
       "    </tr>\n",
       "  </thead>\n",
       "  <tbody>\n",
       "    <tr>\n",
       "      <th>count</th>\n",
       "      <td>6.480000e+02</td>\n",
       "      <td>6.480000e+02</td>\n",
       "      <td>6.480000e+02</td>\n",
       "      <td>6.480000e+02</td>\n",
       "      <td>6.480000e+02</td>\n",
       "      <td>6.480000e+02</td>\n",
       "    </tr>\n",
       "    <tr>\n",
       "      <th>mean</th>\n",
       "      <td>1.186460e+06</td>\n",
       "      <td>1.218969e+06</td>\n",
       "      <td>1.286463e+06</td>\n",
       "      <td>6.667148e+05</td>\n",
       "      <td>4.077208e+05</td>\n",
       "      <td>4.766327e+06</td>\n",
       "    </tr>\n",
       "    <tr>\n",
       "      <th>std</th>\n",
       "      <td>2.237468e+06</td>\n",
       "      <td>2.316211e+06</td>\n",
       "      <td>2.440964e+06</td>\n",
       "      <td>1.280174e+06</td>\n",
       "      <td>8.144891e+05</td>\n",
       "      <td>9.043864e+06</td>\n",
       "    </tr>\n",
       "    <tr>\n",
       "      <th>min</th>\n",
       "      <td>2.957700e+04</td>\n",
       "      <td>2.562700e+04</td>\n",
       "      <td>1.503200e+04</td>\n",
       "      <td>3.401000e+03</td>\n",
       "      <td>9.800000e+02</td>\n",
       "      <td>8.826600e+04</td>\n",
       "    </tr>\n",
       "    <tr>\n",
       "      <th>25%</th>\n",
       "      <td>1.403408e+05</td>\n",
       "      <td>1.198950e+05</td>\n",
       "      <td>1.174818e+05</td>\n",
       "      <td>4.502025e+04</td>\n",
       "      <td>2.102975e+04</td>\n",
       "      <td>4.296905e+05</td>\n",
       "    </tr>\n",
       "    <tr>\n",
       "      <th>50%</th>\n",
       "      <td>4.260640e+05</td>\n",
       "      <td>4.231305e+05</td>\n",
       "      <td>4.545230e+05</td>\n",
       "      <td>2.556900e+05</td>\n",
       "      <td>1.650350e+05</td>\n",
       "      <td>1.700940e+06</td>\n",
       "    </tr>\n",
       "    <tr>\n",
       "      <th>75%</th>\n",
       "      <td>7.056262e+05</td>\n",
       "      <td>7.414350e+05</td>\n",
       "      <td>7.866968e+05</td>\n",
       "      <td>4.474222e+05</td>\n",
       "      <td>2.893625e+05</td>\n",
       "      <td>2.912850e+06</td>\n",
       "    </tr>\n",
       "    <tr>\n",
       "      <th>max</th>\n",
       "      <td>8.365745e+06</td>\n",
       "      <td>8.505834e+06</td>\n",
       "      <td>9.044965e+06</td>\n",
       "      <td>5.698211e+06</td>\n",
       "      <td>3.795973e+06</td>\n",
       "      <td>3.447722e+07</td>\n",
       "    </tr>\n",
       "  </tbody>\n",
       "</table>\n",
       "</div>"
      ],
      "text/plain": [
       "         0 à 19 ans   20 à 39 ans   40 à 59 ans   60 à 74 ans  75 ans et plus  \\\n",
       "count  6.480000e+02  6.480000e+02  6.480000e+02  6.480000e+02    6.480000e+02   \n",
       "mean   1.186460e+06  1.218969e+06  1.286463e+06  6.667148e+05    4.077208e+05   \n",
       "std    2.237468e+06  2.316211e+06  2.440964e+06  1.280174e+06    8.144891e+05   \n",
       "min    2.957700e+04  2.562700e+04  1.503200e+04  3.401000e+03    9.800000e+02   \n",
       "25%    1.403408e+05  1.198950e+05  1.174818e+05  4.502025e+04    2.102975e+04   \n",
       "50%    4.260640e+05  4.231305e+05  4.545230e+05  2.556900e+05    1.650350e+05   \n",
       "75%    7.056262e+05  7.414350e+05  7.866968e+05  4.474222e+05    2.893625e+05   \n",
       "max    8.365745e+06  8.505834e+06  9.044965e+06  5.698211e+06    3.795973e+06   \n",
       "\n",
       "              Total  \n",
       "count  6.480000e+02  \n",
       "mean   4.766327e+06  \n",
       "std    9.043864e+06  \n",
       "min    8.826600e+04  \n",
       "25%    4.296905e+05  \n",
       "50%    1.700940e+06  \n",
       "75%    2.912850e+06  \n",
       "max    3.447722e+07  "
      ]
     },
     "execution_count": 16,
     "metadata": {},
     "output_type": "execute_result"
    }
   ],
   "source": [
    "df_pop_reg_joined.describe()"
   ]
  },
  {
   "cell_type": "code",
   "execution_count": 17,
   "metadata": {},
   "outputs": [],
   "source": [
    "#df_pop_reg_joined.to_csv('pop_1.csv')"
   ]
  },
  {
   "cell_type": "markdown",
   "metadata": {},
   "source": [
    "## 2. Revenue and Taxes"
   ]
  },
  {
   "cell_type": "code",
   "execution_count": 18,
   "metadata": {},
   "outputs": [],
   "source": [
    "df_rdb_2002 = pd.read_excel('rdb-regions-menages-1994-2015.xls', sheet_name='RDB2002-Déf par hab')\n",
    "df_rdb_2003 = pd.read_excel('rdb-regions-menages-1994-2015.xls', sheet_name='RDB2003-Déf par hab')\n",
    "df_rdb_2004 = pd.read_excel('rdb-regions-menages-1994-2015.xls', sheet_name='RDB2004-Déf par hab')\n",
    "df_rdb_2005 = pd.read_excel('rdb-regions-menages-1994-2015.xls', sheet_name='RDB2005-Déf par hab')\n",
    "df_rdb_2006 = pd.read_excel('rdb-regions-menages-1994-2015.xls', sheet_name='RDB2006-Déf par hab')\n",
    "df_rdb_2007 = pd.read_excel('rdb-regions-menages-1994-2015.xls', sheet_name='RDB2007-Déf par hab')\n",
    "df_rdb_2008 = pd.read_excel('rdb-regions-menages-1994-2015.xls', sheet_name='RDB2008-Déf par hab')\n",
    "df_rdb_2009 = pd.read_excel('rdb-regions-menages-1994-2015.xls', sheet_name='RDB2009-Déf par hab')\n",
    "df_rdb_2010 = pd.read_excel('rdb-regions-menages-1994-2015.xls', sheet_name='RDB2010-Déf par hab')\n",
    "df_rdb_2011 = pd.read_excel('rdb-regions-menages-1994-2015.xls', sheet_name='RDB2011-Def par hab')\n",
    "df_rdb_2012 = pd.read_excel('rdb-regions-menages-1994-2015.xls', sheet_name='RDB2012-Déf par hab')\n",
    "df_rdb_2013 = pd.read_excel('rdb-regions-menages-1994-2015.xls', sheet_name='RDB2013-déf par hab')\n",
    "df_rdb_2014 = pd.read_excel('rdb-regions-menages-1994-2015.xls', sheet_name='RDB2014-déf par hab')\n",
    "df_rdb_2015 = pd.read_excel('rdb-regions-menages-1994-2015.xls', sheet_name='RDB2015-semidéf par hab')\n",
    "\n",
    "df_rdb_2002['year'] = '2002' \n",
    "df_rdb_2003['year'] = '2003' \n",
    "df_rdb_2004['year'] = '2004' \n",
    "df_rdb_2005['year'] = '2005' \n",
    "df_rdb_2006['year'] = '2006' \n",
    "df_rdb_2007['year'] = '2007' \n",
    "df_rdb_2008['year'] = '2008' \n",
    "df_rdb_2009['year'] = '2009' \n",
    "df_rdb_2010['year'] = '2010' \n",
    "df_rdb_2011['year'] = '2011' \n",
    "df_rdb_2012['year'] = '2012' \n",
    "df_rdb_2013['year'] = '2013' \n",
    "df_rdb_2014['year'] = '2014' \n",
    "df_rdb_2015['year'] = '2015' "
   ]
  },
  {
   "cell_type": "code",
   "execution_count": 19,
   "metadata": {},
   "outputs": [],
   "source": [
    "# Concatenating the sub-dataframes\n",
    "\n",
    "df_rdb = pd.concat([df_rdb_2002, df_rdb_2003, df_rdb_2004, df_rdb_2005, df_rdb_2006, df_rdb_2007, df_rdb_2008, df_rdb_2009, df_rdb_2010,\n",
    "                   df_rdb_2011, df_rdb_2012, df_rdb_2013, df_rdb_2014, df_rdb_2015], ignore_index=True)"
   ]
  },
  {
   "cell_type": "code",
   "execution_count": 20,
   "metadata": {},
   "outputs": [
    {
     "data": {
      "text/html": [
       "<div>\n",
       "<style scoped>\n",
       "    .dataframe tbody tr th:only-of-type {\n",
       "        vertical-align: middle;\n",
       "    }\n",
       "\n",
       "    .dataframe tbody tr th {\n",
       "        vertical-align: top;\n",
       "    }\n",
       "\n",
       "    .dataframe thead th {\n",
       "        text-align: right;\n",
       "    }\n",
       "</style>\n",
       "<table border=\"1\" class=\"dataframe\">\n",
       "  <thead>\n",
       "    <tr style=\"text-align: right;\">\n",
       "      <th></th>\n",
       "      <th>Régions</th>\n",
       "      <th>Excédent brut et revenu mixte</th>\n",
       "      <th>Salaires et traitements bruts</th>\n",
       "      <th>Cotisations sociales des salariés et des non-salariés</th>\n",
       "      <th>Impôts</th>\n",
       "      <th>Prestations en espèces</th>\n",
       "      <th>Autres (1)</th>\n",
       "      <th>Revenu disponible brut</th>\n",
       "      <th>year</th>\n",
       "    </tr>\n",
       "  </thead>\n",
       "  <tbody>\n",
       "    <tr>\n",
       "      <th>300</th>\n",
       "      <td>Bourgogne-Franche-Comté</td>\n",
       "      <td>4461.0</td>\n",
       "      <td>11112.0</td>\n",
       "      <td>1979.0</td>\n",
       "      <td>2754.0</td>\n",
       "      <td>7933.0</td>\n",
       "      <td>1421.0</td>\n",
       "      <td>20194.0</td>\n",
       "      <td>2015</td>\n",
       "    </tr>\n",
       "    <tr>\n",
       "      <th>18</th>\n",
       "      <td>Guyane</td>\n",
       "      <td>2511.0</td>\n",
       "      <td>5168.0</td>\n",
       "      <td>464.0</td>\n",
       "      <td>728.0</td>\n",
       "      <td>1630.0</td>\n",
       "      <td>427.0</td>\n",
       "      <td>8544.0</td>\n",
       "      <td>2002</td>\n",
       "    </tr>\n",
       "    <tr>\n",
       "      <th>268</th>\n",
       "      <td>DOM</td>\n",
       "      <td>3614.0</td>\n",
       "      <td>8070.0</td>\n",
       "      <td>896.0</td>\n",
       "      <td>890.0</td>\n",
       "      <td>3719.0</td>\n",
       "      <td>502.0</td>\n",
       "      <td>14119.0</td>\n",
       "      <td>2013</td>\n",
       "    </tr>\n",
       "  </tbody>\n",
       "</table>\n",
       "</div>"
      ],
      "text/plain": [
       "                     Régions  Excédent brut et revenu mixte  \\\n",
       "300  Bourgogne-Franche-Comté                         4461.0   \n",
       "18                    Guyane                         2511.0   \n",
       "268                      DOM                         3614.0   \n",
       "\n",
       "     Salaires et traitements bruts  \\\n",
       "300                        11112.0   \n",
       "18                          5168.0   \n",
       "268                         8070.0   \n",
       "\n",
       "     Cotisations sociales des salariés et des non-salariés  \\\n",
       "300                                             1979.0       \n",
       "18                                               464.0       \n",
       "268                                              896.0       \n",
       "\n",
       "     Impôts                 Prestations en espèces  Autres (1)  \\\n",
       "300                 2754.0                  7933.0      1421.0   \n",
       "18                   728.0                  1630.0       427.0   \n",
       "268                  890.0                  3719.0       502.0   \n",
       "\n",
       "     Revenu disponible brut  year  \n",
       "300                 20194.0  2015  \n",
       "18                   8544.0  2002  \n",
       "268                 14119.0  2013  "
      ]
     },
     "execution_count": 20,
     "metadata": {},
     "output_type": "execute_result"
    }
   ],
   "source": [
    "df_rdb.sample(3)"
   ]
  },
  {
   "cell_type": "code",
   "execution_count": 21,
   "metadata": {},
   "outputs": [
    {
     "name": "stdout",
     "output_type": "stream",
     "text": [
      "the shape of this resulting dataset is : (322, 9)\n"
     ]
    }
   ],
   "source": [
    "print('the shape of this resulting dataset is :', df_rdb.shape)"
   ]
  },
  {
   "cell_type": "code",
   "execution_count": 22,
   "metadata": {},
   "outputs": [
    {
     "data": {
      "text/html": [
       "<div>\n",
       "<style scoped>\n",
       "    .dataframe tbody tr th:only-of-type {\n",
       "        vertical-align: middle;\n",
       "    }\n",
       "\n",
       "    .dataframe tbody tr th {\n",
       "        vertical-align: top;\n",
       "    }\n",
       "\n",
       "    .dataframe thead th {\n",
       "        text-align: right;\n",
       "    }\n",
       "</style>\n",
       "<table border=\"1\" class=\"dataframe\">\n",
       "  <thead>\n",
       "    <tr style=\"text-align: right;\">\n",
       "      <th></th>\n",
       "      <th>Excédent brut et revenu mixte</th>\n",
       "      <th>Salaires et traitements bruts</th>\n",
       "      <th>Cotisations sociales des salariés et des non-salariés</th>\n",
       "      <th>Impôts</th>\n",
       "      <th>Prestations en espèces</th>\n",
       "      <th>Autres (1)</th>\n",
       "      <th>Revenu disponible brut</th>\n",
       "    </tr>\n",
       "  </thead>\n",
       "  <tbody>\n",
       "    <tr>\n",
       "      <th>count</th>\n",
       "      <td>308.000000</td>\n",
       "      <td>308.000000</td>\n",
       "      <td>308.000000</td>\n",
       "      <td>308.000000</td>\n",
       "      <td>308.000000</td>\n",
       "      <td>308.000000</td>\n",
       "      <td>308.000000</td>\n",
       "    </tr>\n",
       "    <tr>\n",
       "      <th>mean</th>\n",
       "      <td>3881.740260</td>\n",
       "      <td>9750.704545</td>\n",
       "      <td>1548.412338</td>\n",
       "      <td>2069.500000</td>\n",
       "      <td>5292.422078</td>\n",
       "      <td>1288.522727</td>\n",
       "      <td>16595.477273</td>\n",
       "    </tr>\n",
       "    <tr>\n",
       "      <th>std</th>\n",
       "      <td>874.390589</td>\n",
       "      <td>2653.911068</td>\n",
       "      <td>628.461683</td>\n",
       "      <td>955.477763</td>\n",
       "      <td>1813.353760</td>\n",
       "      <td>606.219349</td>\n",
       "      <td>4068.486327</td>\n",
       "    </tr>\n",
       "    <tr>\n",
       "      <th>min</th>\n",
       "      <td>864.000000</td>\n",
       "      <td>1916.000000</td>\n",
       "      <td>78.000000</td>\n",
       "      <td>81.000000</td>\n",
       "      <td>98.000000</td>\n",
       "      <td>-40.000000</td>\n",
       "      <td>2713.000000</td>\n",
       "    </tr>\n",
       "    <tr>\n",
       "      <th>25%</th>\n",
       "      <td>3515.500000</td>\n",
       "      <td>8421.500000</td>\n",
       "      <td>1318.750000</td>\n",
       "      <td>1340.750000</td>\n",
       "      <td>4353.000000</td>\n",
       "      <td>825.250000</td>\n",
       "      <td>15050.000000</td>\n",
       "    </tr>\n",
       "    <tr>\n",
       "      <th>50%</th>\n",
       "      <td>4065.000000</td>\n",
       "      <td>10084.000000</td>\n",
       "      <td>1715.000000</td>\n",
       "      <td>2219.000000</td>\n",
       "      <td>5665.500000</td>\n",
       "      <td>1489.000000</td>\n",
       "      <td>17531.000000</td>\n",
       "    </tr>\n",
       "    <tr>\n",
       "      <th>75%</th>\n",
       "      <td>4437.500000</td>\n",
       "      <td>11082.250000</td>\n",
       "      <td>1932.000000</td>\n",
       "      <td>2631.000000</td>\n",
       "      <td>6618.250000</td>\n",
       "      <td>1643.000000</td>\n",
       "      <td>19347.750000</td>\n",
       "    </tr>\n",
       "    <tr>\n",
       "      <th>max</th>\n",
       "      <td>5507.000000</td>\n",
       "      <td>18336.000000</td>\n",
       "      <td>3257.000000</td>\n",
       "      <td>5235.000000</td>\n",
       "      <td>7933.000000</td>\n",
       "      <td>2739.000000</td>\n",
       "      <td>24200.000000</td>\n",
       "    </tr>\n",
       "  </tbody>\n",
       "</table>\n",
       "</div>"
      ],
      "text/plain": [
       "       Excédent brut et revenu mixte  Salaires et traitements bruts  \\\n",
       "count                     308.000000                     308.000000   \n",
       "mean                     3881.740260                    9750.704545   \n",
       "std                       874.390589                    2653.911068   \n",
       "min                       864.000000                    1916.000000   \n",
       "25%                      3515.500000                    8421.500000   \n",
       "50%                      4065.000000                   10084.000000   \n",
       "75%                      4437.500000                   11082.250000   \n",
       "max                      5507.000000                   18336.000000   \n",
       "\n",
       "       Cotisations sociales des salariés et des non-salariés  \\\n",
       "count                                         308.000000       \n",
       "mean                                         1548.412338       \n",
       "std                                           628.461683       \n",
       "min                                            78.000000       \n",
       "25%                                          1318.750000       \n",
       "50%                                          1715.000000       \n",
       "75%                                          1932.000000       \n",
       "max                                          3257.000000       \n",
       "\n",
       "       Impôts                 Prestations en espèces   Autres (1)  \\\n",
       "count             308.000000              308.000000   308.000000   \n",
       "mean             2069.500000             5292.422078  1288.522727   \n",
       "std               955.477763             1813.353760   606.219349   \n",
       "min                81.000000               98.000000   -40.000000   \n",
       "25%              1340.750000             4353.000000   825.250000   \n",
       "50%              2219.000000             5665.500000  1489.000000   \n",
       "75%              2631.000000             6618.250000  1643.000000   \n",
       "max              5235.000000             7933.000000  2739.000000   \n",
       "\n",
       "       Revenu disponible brut  \n",
       "count              308.000000  \n",
       "mean             16595.477273  \n",
       "std               4068.486327  \n",
       "min               2713.000000  \n",
       "25%              15050.000000  \n",
       "50%              17531.000000  \n",
       "75%              19347.750000  \n",
       "max              24200.000000  "
      ]
     },
     "execution_count": 22,
     "metadata": {},
     "output_type": "execute_result"
    }
   ],
   "source": [
    "df_rdb.describe()"
   ]
  },
  {
   "cell_type": "markdown",
   "metadata": {},
   "source": [
    "# Analysis on Gender/Age"
   ]
  },
  {
   "cell_type": "code",
   "execution_count": 23,
   "metadata": {},
   "outputs": [],
   "source": [
    "# Gender & Region\n",
    "tmp_gr = df_pop_reg_joined.groupby(['gender', 'year', 'region'])['Total'].sum()\n",
    "gr = pd.DataFrame(tmp_gr).reset_index()"
   ]
  },
  {
   "cell_type": "code",
   "execution_count": 24,
   "metadata": {},
   "outputs": [],
   "source": [
    "tmp_total = df_pop_reg_joined.groupby(['year'])['Total'].sum()\n",
    "total = pd.DataFrame(tmp_total).reset_index()"
   ]
  },
  {
   "cell_type": "code",
   "execution_count": 25,
   "metadata": {},
   "outputs": [
    {
     "data": {
      "image/png": "[encoded data removed]",
      "text/plain": [
       "<Figure size 432x288 with 1 Axes>"
      ]
     },
     "metadata": {
      "needs_background": "light"
     },
     "output_type": "display_data"
    }
   ],
   "source": [
    "fig = total.plot(x='year', y='Total', kind='line')\n",
    "plt.rcParams['axes.facecolor'] = 'white'\n",
    "plt.title('Evolution of Population over the years')\n",
    "plt.xlabel(\"years\")\n",
    "plt.ylabel(\"Number of inhabitants\")\n",
    "plt.show();"
   ]
  },
  {
   "cell_type": "code",
   "execution_count": 26,
   "metadata": {},
   "outputs": [
    {
     "data": {
      "image/png": "[encoded data removed]",
      "text/plain": [
       "<Figure size 432x288 with 2 Axes>"
      ]
     },
     "metadata": {
      "needs_background": "light"
     },
     "output_type": "display_data"
    }
   ],
   "source": [
    "# plot the heatmap on Seaborn\n",
    "corr = df_pop_reg_joined.corr()\n",
    "sns.heatmap(corr,\n",
    "xticklabels=corr.columns,\n",
    "yticklabels=corr.columns);"
   ]
  },
  {
   "cell_type": "markdown",
   "metadata": {},
   "source": [
    "# Analysis on Revenue/Taxes"
   ]
  },
  {
   "cell_type": "code",
   "execution_count": 27,
   "metadata": {},
   "outputs": [],
   "source": [
    "revenue_per_region = df_rdb.groupby(['Régions', 'year'])['Revenu disponible brut'].mean()"
   ]
  },
  {
   "cell_type": "code",
   "execution_count": 28,
   "metadata": {},
   "outputs": [],
   "source": [
    "rpg = pd.DataFrame(revenue_per_region).reset_index()"
   ]
  },
  {
   "cell_type": "code",
   "execution_count": 29,
   "metadata": {},
   "outputs": [],
   "source": [
    "rpg_year = rpg.groupby('year').mean().reset_index()\n",
    "rpg_region = rpg.groupby('Régions').mean().reset_index()"
   ]
  },
  {
   "cell_type": "code",
   "execution_count": 30,
   "metadata": {},
   "outputs": [
    {
     "data": {
      "image/png": "[encoded data removed]",
      "text/plain": [
       "<Figure size 432x288 with 1 Axes>"
      ]
     },
     "metadata": {
      "needs_background": "light"
     },
     "output_type": "display_data"
    }
   ],
   "source": [
    "fig = rpg_year.plot(x='year', y='Revenu disponible brut', kind='line')\n",
    "plt.rcParams['axes.facecolor'] = 'white'\n",
    "plt.title('Evolution of the Mean Revenue over the years')\n",
    "plt.xlabel(\"years\")\n",
    "plt.ylabel(\"Revenue per inhabitant\")\n",
    "plt.show();"
   ]
  },
  {
   "cell_type": "code",
   "execution_count": 31,
   "metadata": {},
   "outputs": [
    {
     "data": {
      "image/png": "[encoded data removed]",
      "text/plain": [
       "<Figure size 432x288 with 1 Axes>"
      ]
     },
     "metadata": {
      "needs_background": "light"
     },
     "output_type": "display_data"
    }
   ],
   "source": [
    "fig = rpg_region.plot(x='Régions', y='Revenu disponible brut', kind='barh')\n",
    "plt.rcParams['axes.facecolor'] = 'white'\n",
    "plt.title('Mean Revenue per region (between 2002 and 2015)')\n",
    "plt.xlabel(\"Revenue per inhabitant\")\n",
    "plt.ylabel(\"Regions\")\n",
    "plt.show();"
   ]
  },
  {
   "cell_type": "code",
   "execution_count": 32,
   "metadata": {},
   "outputs": [],
   "source": [
    "#rpg_region.to_csv('rpg_region.csv')"
   ]
  },
  {
   "cell_type": "code",
   "execution_count": 33,
   "metadata": {},
   "outputs": [
    {
     "data": {
      "image/png": "[encoded data removed]",
      "text/plain": [
       "<Figure size 432x288 with 2 Axes>"
      ]
     },
     "metadata": {
      "needs_background": "light"
     },
     "output_type": "display_data"
    }
   ],
   "source": [
    "# plot the heatmap on Seaborn\n",
    "corr = df_rdb.corr()\n",
    "sns.heatmap(corr,\n",
    "xticklabels=corr.columns,\n",
    "yticklabels=corr.columns);"
   ]
  },
  {
   "cell_type": "markdown",
   "metadata": {},
   "source": [
    "# Data Gathering"
   ]
  },
  {
   "cell_type": "markdown",
   "metadata": {},
   "source": [
    "### Merging population features"
   ]
  },
  {
   "cell_type": "code",
   "execution_count": 34,
   "metadata": {},
   "outputs": [],
   "source": [
    "df_rdb = df_rdb.rename(columns={\"Régions\":\"region\"})"
   ]
  },
  {
   "cell_type": "code",
   "execution_count": 35,
   "metadata": {},
   "outputs": [
    {
     "data": {
      "text/plain": [
       "['region',\n",
       " 'Excédent brut et revenu mixte',\n",
       " 'Salaires et traitements bruts',\n",
       " 'Cotisations sociales des salariés et des non-salariés',\n",
       " 'Impôts               ',\n",
       " 'Prestations en espèces',\n",
       " 'Autres (1)',\n",
       " 'Revenu disponible brut',\n",
       " 'year']"
      ]
     },
     "execution_count": 35,
     "metadata": {},
     "output_type": "execute_result"
    }
   ],
   "source": [
    "df_rdb.columns.tolist()"
   ]
  },
  {
   "cell_type": "code",
   "execution_count": 36,
   "metadata": {},
   "outputs": [
    {
     "data": {
      "text/plain": [
       "['0 à 19 ans',\n",
       " '20 à 39 ans',\n",
       " '40 à 59 ans',\n",
       " '60 à 74 ans',\n",
       " '75 ans et plus',\n",
       " 'Total',\n",
       " 'region',\n",
       " 'year',\n",
       " 'gender']"
      ]
     },
     "execution_count": 36,
     "metadata": {},
     "output_type": "execute_result"
    }
   ],
   "source": [
    "df_pop_reg_joined.columns.tolist()"
   ]
  },
  {
   "cell_type": "code",
   "execution_count": 37,
   "metadata": {},
   "outputs": [
    {
     "data": {
      "text/plain": [
       "['Auvergne-Rhône-Alpes',\n",
       " 'Bourgogne-Franche-Comté',\n",
       " 'Bretagne',\n",
       " 'Centre-Val-de-Loire',\n",
       " 'Corse',\n",
       " 'Grand Est',\n",
       " 'Hauts-de-France',\n",
       " 'Île-de-France',\n",
       " 'Normandie',\n",
       " 'Nouvelle-Aquitaine',\n",
       " 'Occitanie',\n",
       " 'Pays de la Loire',\n",
       " \"Provence-Alpes-Côte d'Azur\",\n",
       " 'France métropolitaine',\n",
       " 'Guadeloupe ',\n",
       " 'Martinique ',\n",
       " 'Guyane',\n",
       " 'La Réunion',\n",
       " 'DOM',\n",
       " 'France métropolitaine et DOM',\n",
       " 'Mayotte']"
      ]
     },
     "execution_count": 37,
     "metadata": {},
     "output_type": "execute_result"
    }
   ],
   "source": [
    "df_pop_reg_joined.region.drop_duplicates().tolist()"
   ]
  },
  {
   "cell_type": "code",
   "execution_count": 38,
   "metadata": {},
   "outputs": [
    {
     "data": {
      "text/plain": [
       "['Auvergne-Rhône-Alpes',\n",
       " 'Bourgogne-Franche-Comté',\n",
       " 'Bretagne',\n",
       " 'Centre-Val de Loire',\n",
       " 'Corse',\n",
       " 'Grand Est',\n",
       " 'Hauts-de-France',\n",
       " 'Ile-de-France',\n",
       " 'Normandie',\n",
       " 'Nouvelle-Aquitaine',\n",
       " 'Occitanie',\n",
       " 'Pays de la Loire',\n",
       " \"Provence-Alpes-Côte d'Azur\",\n",
       " 'France métropolitaine',\n",
       " 'France métropolitaine hors Ile-de-France',\n",
       " 'DOM',\n",
       " 'Guadeloupe',\n",
       " 'Martinique',\n",
       " 'Guyane',\n",
       " 'La Réunion',\n",
       " 'Mayotte',\n",
       " 'Hors territoire',\n",
       " 'France (France métropolitaine+DOM+Hors territoire) ']"
      ]
     },
     "execution_count": 38,
     "metadata": {},
     "output_type": "execute_result"
    }
   ],
   "source": [
    "df_rdb.region.drop_duplicates().tolist()"
   ]
  },
  {
   "cell_type": "code",
   "execution_count": 45,
   "metadata": {},
   "outputs": [],
   "source": [
    "df_pop_reg_joined['region'].replace(['Guadeloupe ','Martinique '], ['Guadeloupe','Martinique'], inplace=True)\n",
    "df_rdb['region'].replace(['Ile-de-France','Centre-Val de Loire'], ['Île-de-France', 'Centre-Val-de-Loire'], inplace=True)"
   ]
  },
  {
   "cell_type": "code",
   "execution_count": 48,
   "metadata": {},
   "outputs": [],
   "source": [
    "df_rdb_test = df_rdb.copy()\n",
    "df_rdb_test['region'].replace(['Guadeloupe','Martinique'], ['Guadeloupe ','Martinique '], inplace=True)\n",
    "df_all_genders = pd.merge(df_rdb_test, df_pop_reg_all, on=['year', 'region'], how='inner')\n",
    "df_all_genders.drop(columns=['Excédent brut et revenu mixte','Salaires et traitements bruts','Impôts               ',\n",
    "                             'Prestations en espèces', 'Autres (1)','0 à 19 ans', '20 à 39 ans', '40 à 59 ans', '60 à 74 ans',\n",
    "                             '75 ans et plus'], inplace=True)\n",
    "df_all_genders.rename(columns={\"Revenu disponible brut\":\"gross-salary\", \n",
    "                               \"Cotisations sociales des salariés et des non-salariés\":\"social-contribution\"}, inplace=True)\n",
    "#df_all_genders.to_csv('pop-salary-contribution.csv')"
   ]
  },
  {
   "cell_type": "code",
   "execution_count": 34,
   "metadata": {},
   "outputs": [],
   "source": [
    "df_inner_pop = pd.merge(df_rdb, df_pop_reg_joined, on=['year', 'region'], how='inner')"
   ]
  },
  {
   "cell_type": "code",
   "execution_count": 35,
   "metadata": {},
   "outputs": [
    {
     "data": {
      "text/html": [
       "<div>\n",
       "<style scoped>\n",
       "    .dataframe tbody tr th:only-of-type {\n",
       "        vertical-align: middle;\n",
       "    }\n",
       "\n",
       "    .dataframe tbody tr th {\n",
       "        vertical-align: top;\n",
       "    }\n",
       "\n",
       "    .dataframe thead th {\n",
       "        text-align: right;\n",
       "    }\n",
       "</style>\n",
       "<table border=\"1\" class=\"dataframe\">\n",
       "  <thead>\n",
       "    <tr style=\"text-align: right;\">\n",
       "      <th></th>\n",
       "      <th>region</th>\n",
       "      <th>Excédent brut et revenu mixte</th>\n",
       "      <th>Salaires et traitements bruts</th>\n",
       "      <th>Cotisations sociales des salariés et des non-salariés</th>\n",
       "      <th>Impôts</th>\n",
       "      <th>Prestations en espèces</th>\n",
       "      <th>Autres (1)</th>\n",
       "      <th>Revenu disponible brut</th>\n",
       "      <th>year</th>\n",
       "      <th>0 à 19 ans</th>\n",
       "      <th>20 à 39 ans</th>\n",
       "      <th>40 à 59 ans</th>\n",
       "      <th>60 à 74 ans</th>\n",
       "      <th>75 ans et plus</th>\n",
       "      <th>Total</th>\n",
       "      <th>gender</th>\n",
       "    </tr>\n",
       "  </thead>\n",
       "  <tbody>\n",
       "    <tr>\n",
       "      <th>489</th>\n",
       "      <td>Martinique</td>\n",
       "      <td>4096.0</td>\n",
       "      <td>10215.0</td>\n",
       "      <td>1324.0</td>\n",
       "      <td>1412.0</td>\n",
       "      <td>4088.0</td>\n",
       "      <td>1019.0</td>\n",
       "      <td>16682.0</td>\n",
       "      <td>2014</td>\n",
       "      <td>46508</td>\n",
       "      <td>41997</td>\n",
       "      <td>65998</td>\n",
       "      <td>32286</td>\n",
       "      <td>19620</td>\n",
       "      <td>206409</td>\n",
       "      <td>female</td>\n",
       "    </tr>\n",
       "    <tr>\n",
       "      <th>209</th>\n",
       "      <td>Nouvelle-Aquitaine</td>\n",
       "      <td>4709.0</td>\n",
       "      <td>9914.0</td>\n",
       "      <td>1795.0</td>\n",
       "      <td>2216.0</td>\n",
       "      <td>6327.0</td>\n",
       "      <td>1682.0</td>\n",
       "      <td>18621.0</td>\n",
       "      <td>2007</td>\n",
       "      <td>613588</td>\n",
       "      <td>673731</td>\n",
       "      <td>811557</td>\n",
       "      <td>442664</td>\n",
       "      <td>372955</td>\n",
       "      <td>2914495</td>\n",
       "      <td>female</td>\n",
       "    </tr>\n",
       "    <tr>\n",
       "      <th>86</th>\n",
       "      <td>Grand Est</td>\n",
       "      <td>3546.0</td>\n",
       "      <td>10186.0</td>\n",
       "      <td>1717.0</td>\n",
       "      <td>2106.0</td>\n",
       "      <td>5336.0</td>\n",
       "      <td>1464.0</td>\n",
       "      <td>16709.0</td>\n",
       "      <td>2004</td>\n",
       "      <td>705080</td>\n",
       "      <td>751778</td>\n",
       "      <td>751632</td>\n",
       "      <td>323543</td>\n",
       "      <td>134037</td>\n",
       "      <td>2666070</td>\n",
       "      <td>male</td>\n",
       "    </tr>\n",
       "    <tr>\n",
       "      <th>506</th>\n",
       "      <td>Grand Est</td>\n",
       "      <td>3844.0</td>\n",
       "      <td>12021.0</td>\n",
       "      <td>2067.0</td>\n",
       "      <td>2923.0</td>\n",
       "      <td>7105.0</td>\n",
       "      <td>1358.0</td>\n",
       "      <td>19338.0</td>\n",
       "      <td>2015</td>\n",
       "      <td>671950</td>\n",
       "      <td>672558</td>\n",
       "      <td>757461</td>\n",
       "      <td>418365</td>\n",
       "      <td>190542</td>\n",
       "      <td>2710876</td>\n",
       "      <td>male</td>\n",
       "    </tr>\n",
       "    <tr>\n",
       "      <th>174</th>\n",
       "      <td>Pays de la Loire</td>\n",
       "      <td>3998.0</td>\n",
       "      <td>10031.0</td>\n",
       "      <td>1773.0</td>\n",
       "      <td>2132.0</td>\n",
       "      <td>5882.0</td>\n",
       "      <td>1526.0</td>\n",
       "      <td>17532.0</td>\n",
       "      <td>2006</td>\n",
       "      <td>453665</td>\n",
       "      <td>449748</td>\n",
       "      <td>466184</td>\n",
       "      <td>202806</td>\n",
       "      <td>108182</td>\n",
       "      <td>1680585</td>\n",
       "      <td>male</td>\n",
       "    </tr>\n",
       "  </tbody>\n",
       "</table>\n",
       "</div>"
      ],
      "text/plain": [
       "                 region  Excédent brut et revenu mixte  \\\n",
       "489          Martinique                         4096.0   \n",
       "209  Nouvelle-Aquitaine                         4709.0   \n",
       "86            Grand Est                         3546.0   \n",
       "506           Grand Est                         3844.0   \n",
       "174    Pays de la Loire                         3998.0   \n",
       "\n",
       "     Salaires et traitements bruts  \\\n",
       "489                        10215.0   \n",
       "209                         9914.0   \n",
       "86                         10186.0   \n",
       "506                        12021.0   \n",
       "174                        10031.0   \n",
       "\n",
       "     Cotisations sociales des salariés et des non-salariés  \\\n",
       "489                                             1324.0       \n",
       "209                                             1795.0       \n",
       "86                                              1717.0       \n",
       "506                                             2067.0       \n",
       "174                                             1773.0       \n",
       "\n",
       "     Impôts                 Prestations en espèces  Autres (1)  \\\n",
       "489                 1412.0                  4088.0      1019.0   \n",
       "209                 2216.0                  6327.0      1682.0   \n",
       "86                  2106.0                  5336.0      1464.0   \n",
       "506                 2923.0                  7105.0      1358.0   \n",
       "174                 2132.0                  5882.0      1526.0   \n",
       "\n",
       "     Revenu disponible brut  year  0 à 19 ans  20 à 39 ans  40 à 59 ans  \\\n",
       "489                 16682.0  2014       46508        41997        65998   \n",
       "209                 18621.0  2007      613588       673731       811557   \n",
       "86                  16709.0  2004      705080       751778       751632   \n",
       "506                 19338.0  2015      671950       672558       757461   \n",
       "174                 17532.0  2006      453665       449748       466184   \n",
       "\n",
       "     60 à 74 ans  75 ans et plus    Total  gender  \n",
       "489        32286           19620   206409  female  \n",
       "209       442664          372955  2914495  female  \n",
       "86        323543          134037  2666070    male  \n",
       "506       418365          190542  2710876    male  \n",
       "174       202806          108182  1680585    male  "
      ]
     },
     "execution_count": 35,
     "metadata": {},
     "output_type": "execute_result"
    }
   ],
   "source": [
    "df_inner_pop.sample(5)"
   ]
  },
  {
   "cell_type": "markdown",
   "metadata": {},
   "source": [
    "### Merging population and Election"
   ]
  },
  {
   "cell_type": "code",
   "execution_count": 36,
   "metadata": {},
   "outputs": [],
   "source": [
    "df_election = pd.read_csv('Election_gathering_region.csv', delimiter=\";\", encoding='latin-1')\n",
    "df_election = df_election.rename(columns={\"Region\":\"region\"})"
   ]
  },
  {
   "cell_type": "code",
   "execution_count": 37,
   "metadata": {},
   "outputs": [
    {
     "data": {
      "text/plain": [
       "['Grand Est',\n",
       " 'Nouvelle-Aquitaine',\n",
       " 'Auvergne et Rhône-Alpes',\n",
       " 'Bourgogne-Franche-Comté',\n",
       " 'Bretagne',\n",
       " 'Centre-Val de Loire',\n",
       " 'Île-de-France',\n",
       " 'Occitanie',\n",
       " 'Hauts-de-France',\n",
       " 'Normandie',\n",
       " 'Pays de la Loire',\n",
       " \"Provence-Alpes-Côte d'Azur\",\n",
       " 'Corse',\n",
       " 'Guadeloupe',\n",
       " 'Martinique',\n",
       " 'Guyane',\n",
       " 'La Réunion',\n",
       " 'Mayotte']"
      ]
     },
     "execution_count": 37,
     "metadata": {},
     "output_type": "execute_result"
    }
   ],
   "source": [
    "df_election.region.tolist()"
   ]
  },
  {
   "cell_type": "code",
   "execution_count": 38,
   "metadata": {},
   "outputs": [
    {
     "data": {
      "text/plain": [
       "['Auvergne-Rhône-Alpes',\n",
       " 'Bourgogne-Franche-Comté',\n",
       " 'Bretagne',\n",
       " 'Centre-Val-de-Loire',\n",
       " 'Corse',\n",
       " 'Grand Est',\n",
       " 'Hauts-de-France',\n",
       " 'Île-de-France',\n",
       " 'Normandie',\n",
       " 'Nouvelle-Aquitaine',\n",
       " 'Occitanie',\n",
       " 'Pays de la Loire',\n",
       " \"Provence-Alpes-Côte d'Azur\",\n",
       " 'France métropolitaine',\n",
       " 'DOM',\n",
       " 'Guadeloupe',\n",
       " 'Martinique',\n",
       " 'Guyane',\n",
       " 'La Réunion',\n",
       " 'Mayotte']"
      ]
     },
     "execution_count": 38,
     "metadata": {},
     "output_type": "execute_result"
    }
   ],
   "source": [
    "df_inner_pop.region.drop_duplicates().tolist()"
   ]
  },
  {
   "cell_type": "code",
   "execution_count": 39,
   "metadata": {},
   "outputs": [],
   "source": [
    "df_election['region'].replace(['Auvergne et Rhône-Alpes','Centre-Val de Loire'], ['Auvergne-Rhône-Alpes','Centre-Val-de-Loire'], inplace=True)"
   ]
  },
  {
   "cell_type": "code",
   "execution_count": 40,
   "metadata": {},
   "outputs": [],
   "source": [
    "df_inner_france = pd.merge(df_election, df_inner_pop, on='region', how='inner')"
   ]
  },
  {
   "cell_type": "code",
   "execution_count": 41,
   "metadata": {},
   "outputs": [
    {
     "data": {
      "text/html": [
       "<div>\n",
       "<style scoped>\n",
       "    .dataframe tbody tr th:only-of-type {\n",
       "        vertical-align: middle;\n",
       "    }\n",
       "\n",
       "    .dataframe tbody tr th {\n",
       "        vertical-align: top;\n",
       "    }\n",
       "\n",
       "    .dataframe thead th {\n",
       "        text-align: right;\n",
       "    }\n",
       "</style>\n",
       "<table border=\"1\" class=\"dataframe\">\n",
       "  <thead>\n",
       "    <tr style=\"text-align: right;\">\n",
       "      <th></th>\n",
       "      <th>Region Code</th>\n",
       "      <th>region</th>\n",
       "      <th>Year0</th>\n",
       "      <th>Score00</th>\n",
       "      <th>Surname00</th>\n",
       "      <th>Name00</th>\n",
       "      <th>Parti00</th>\n",
       "      <th>Score01</th>\n",
       "      <th>Surname01</th>\n",
       "      <th>Name01</th>\n",
       "      <th>...</th>\n",
       "      <th>Autres (1)</th>\n",
       "      <th>Revenu disponible brut</th>\n",
       "      <th>year</th>\n",
       "      <th>0 à 19 ans</th>\n",
       "      <th>20 à 39 ans</th>\n",
       "      <th>40 à 59 ans</th>\n",
       "      <th>60 à 74 ans</th>\n",
       "      <th>75 ans et plus</th>\n",
       "      <th>Total</th>\n",
       "      <th>gender</th>\n",
       "    </tr>\n",
       "  </thead>\n",
       "  <tbody>\n",
       "    <tr>\n",
       "      <th>276</th>\n",
       "      <td>28</td>\n",
       "      <td>Normandie</td>\n",
       "      <td>2017</td>\n",
       "      <td>23                                            ...</td>\n",
       "      <td>LE PEN</td>\n",
       "      <td>Marine</td>\n",
       "      <td>FN</td>\n",
       "      <td>22      ,36</td>\n",
       "      <td>MACRON</td>\n",
       "      <td>Emmanuel</td>\n",
       "      <td>...</td>\n",
       "      <td>1489.0</td>\n",
       "      <td>19588.0</td>\n",
       "      <td>2014</td>\n",
       "      <td>421547</td>\n",
       "      <td>380873</td>\n",
       "      <td>443105</td>\n",
       "      <td>250859</td>\n",
       "      <td>118339</td>\n",
       "      <td>1614723</td>\n",
       "      <td>male</td>\n",
       "    </tr>\n",
       "    <tr>\n",
       "      <th>222</th>\n",
       "      <td>76</td>\n",
       "      <td>Occitanie</td>\n",
       "      <td>2017</td>\n",
       "      <td>22                                            ...</td>\n",
       "      <td>LE PEN</td>\n",
       "      <td>Marine</td>\n",
       "      <td>FN</td>\n",
       "      <td>22      ,32</td>\n",
       "      <td>MACRON</td>\n",
       "      <td>Emmanuel</td>\n",
       "      <td>...</td>\n",
       "      <td>1409.0</td>\n",
       "      <td>19094.0</td>\n",
       "      <td>2015</td>\n",
       "      <td>676640</td>\n",
       "      <td>655262</td>\n",
       "      <td>752573</td>\n",
       "      <td>466426</td>\n",
       "      <td>241014</td>\n",
       "      <td>2791915</td>\n",
       "      <td>male</td>\n",
       "    </tr>\n",
       "    <tr>\n",
       "      <th>400</th>\n",
       "      <td>2</td>\n",
       "      <td>Martinique</td>\n",
       "      <td>2017</td>\n",
       "      <td>27                                            ...</td>\n",
       "      <td>MÉLENCHON</td>\n",
       "      <td>Jean-Luc</td>\n",
       "      <td>LFI</td>\n",
       "      <td>25,53</td>\n",
       "      <td>MACRON</td>\n",
       "      <td>Emmanuel</td>\n",
       "      <td>...</td>\n",
       "      <td>740.0</td>\n",
       "      <td>13675.0</td>\n",
       "      <td>2006</td>\n",
       "      <td>58288</td>\n",
       "      <td>45310</td>\n",
       "      <td>50911</td>\n",
       "      <td>21815</td>\n",
       "      <td>9295</td>\n",
       "      <td>185619</td>\n",
       "      <td>male</td>\n",
       "    </tr>\n",
       "    <tr>\n",
       "      <th>29</th>\n",
       "      <td>75</td>\n",
       "      <td>Nouvelle-Aquitaine</td>\n",
       "      <td>2017</td>\n",
       "      <td>25                                            ...</td>\n",
       "      <td>MACRON</td>\n",
       "      <td>Emmanuel</td>\n",
       "      <td>LREM</td>\n",
       "      <td>20  ,75</td>\n",
       "      <td>MÉLENCHON</td>\n",
       "      <td>Jean-Luc</td>\n",
       "      <td>...</td>\n",
       "      <td>1357.0</td>\n",
       "      <td>15649.0</td>\n",
       "      <td>2002</td>\n",
       "      <td>594368</td>\n",
       "      <td>684661</td>\n",
       "      <td>740600</td>\n",
       "      <td>437756</td>\n",
       "      <td>328301</td>\n",
       "      <td>2785686</td>\n",
       "      <td>female</td>\n",
       "    </tr>\n",
       "    <tr>\n",
       "      <th>309</th>\n",
       "      <td>93</td>\n",
       "      <td>Provence-Alpes-Côte d'Azur</td>\n",
       "      <td>2017</td>\n",
       "      <td>28                                            ...</td>\n",
       "      <td>LE PEN</td>\n",
       "      <td>Marine</td>\n",
       "      <td>FN</td>\n",
       "      <td>22      ,38</td>\n",
       "      <td>FILLON</td>\n",
       "      <td>François</td>\n",
       "      <td>...</td>\n",
       "      <td>1620.0</td>\n",
       "      <td>16121.0</td>\n",
       "      <td>2002</td>\n",
       "      <td>541799</td>\n",
       "      <td>607907</td>\n",
       "      <td>639333</td>\n",
       "      <td>364123</td>\n",
       "      <td>261831</td>\n",
       "      <td>2414993</td>\n",
       "      <td>female</td>\n",
       "    </tr>\n",
       "  </tbody>\n",
       "</table>\n",
       "<p>5 rows × 53 columns</p>\n",
       "</div>"
      ],
      "text/plain": [
       "     Region Code                      region  Year0  \\\n",
       "276           28                   Normandie   2017   \n",
       "222           76                   Occitanie   2017   \n",
       "400            2                  Martinique   2017   \n",
       "29            75          Nouvelle-Aquitaine   2017   \n",
       "309           93  Provence-Alpes-Côte d'Azur   2017   \n",
       "\n",
       "                                               Score00  Surname00    Name00  \\\n",
       "276  23                                            ...     LE PEN    Marine   \n",
       "222  22                                            ...     LE PEN    Marine   \n",
       "400  27                                            ...  MÉLENCHON  Jean-Luc   \n",
       "29   25                                            ...     MACRON  Emmanuel   \n",
       "309  28                                            ...     LE PEN    Marine   \n",
       "\n",
       "    Parti00      Score01  Surname01    Name01  ... Autres (1)  \\\n",
       "276      FN  22      ,36     MACRON  Emmanuel  ...     1489.0   \n",
       "222      FN  22      ,32     MACRON  Emmanuel  ...     1409.0   \n",
       "400     LFI        25,53     MACRON  Emmanuel  ...      740.0   \n",
       "29     LREM      20  ,75  MÉLENCHON  Jean-Luc  ...     1357.0   \n",
       "309      FN  22      ,38     FILLON  François  ...     1620.0   \n",
       "\n",
       "     Revenu disponible brut  year 0 à 19 ans 20 à 39 ans 40 à 59 ans  \\\n",
       "276                 19588.0  2014     421547      380873      443105   \n",
       "222                 19094.0  2015     676640      655262      752573   \n",
       "400                 13675.0  2006      58288       45310       50911   \n",
       "29                  15649.0  2002     594368      684661      740600   \n",
       "309                 16121.0  2002     541799      607907      639333   \n",
       "\n",
       "    60 à 74 ans 75 ans et plus    Total  gender  \n",
       "276      250859         118339  1614723    male  \n",
       "222      466426         241014  2791915    male  \n",
       "400       21815           9295   185619    male  \n",
       "29       437756         328301  2785686  female  \n",
       "309      364123         261831  2414993  female  \n",
       "\n",
       "[5 rows x 53 columns]"
      ]
     },
     "execution_count": 41,
     "metadata": {},
     "output_type": "execute_result"
    }
   ],
   "source": [
    "df_inner_france.sample(5)"
   ]
  },
  {
   "cell_type": "code",
   "execution_count": 42,
   "metadata": {},
   "outputs": [],
   "source": [
    "#df_inner_france.to_excel(\"output.xlsx\")"
   ]
  },
  {
   "cell_type": "markdown",
   "metadata": {},
   "source": [
    "# Output Data Files (in csv)"
   ]
  },
  {
   "cell_type": "code",
   "execution_count": 95,
   "metadata": {},
   "outputs": [],
   "source": [
    "df_csv_revenue = df_rdb.copy()\n",
    "df_csv_revenue = df_csv_revenue.rename(columns={\"Revenu disponible brut\":\"revenue\"})\n",
    "df_csv_revenue = df_csv_revenue.groupby(['year', 'region'])['revenue'].mean().reset_index()\n",
    "#df_csv_revenue.to_csv('revenue_chart.csv')"
   ]
  },
  {
   "cell_type": "code",
   "execution_count": 96,
   "metadata": {},
   "outputs": [
    {
     "name": "stderr",
     "output_type": "stream",
     "text": [
      "/home/jalilm/anaconda3/lib/python3.7/site-packages/pandas/core/frame.py:4133: SettingWithCopyWarning: \n",
      "A value is trying to be set on a copy of a slice from a DataFrame\n",
      "\n",
      "See the caveats in the documentation: https://pandas.pydata.org/pandas-docs/stable/user_guide/indexing.html#returning-a-view-versus-a-copy\n",
      "  errors=errors,\n",
      "/home/jalilm/anaconda3/lib/python3.7/site-packages/pandas/core/frame.py:3997: SettingWithCopyWarning: \n",
      "A value is trying to be set on a copy of a slice from a DataFrame\n",
      "\n",
      "See the caveats in the documentation: https://pandas.pydata.org/pandas-docs/stable/user_guide/indexing.html#returning-a-view-versus-a-copy\n",
      "  errors=errors,\n"
     ]
    }
   ],
   "source": [
    "#Bretagne\n",
    "df_csv_revenue_bretagne = df_csv_revenue[df_csv_revenue['region'] == 'Bretagne']\n",
    "df_csv_revenue_bretagne.rename(columns={\"revenue\":\"bretagne\"}, inplace=True)\n",
    "df_csv_revenue_bretagne.drop(columns='region', inplace=True)\n",
    "\n",
    "#Ile-de-France\n",
    "df_csv_revenue_idf = df_csv_revenue[df_csv_revenue['region'] == 'Île-de-France']\n",
    "df_csv_revenue_idf.rename(columns={\"revenue\":\"idf\"}, inplace=True)\n",
    "df_csv_revenue_idf.drop(columns='region', inplace=True)\n",
    "\n",
    "#Auvergne-Rhône-Alpes\n",
    "df_csv_revenue_alpes = df_csv_revenue[df_csv_revenue['region'] == 'Auvergne-Rhône-Alpes']\n",
    "df_csv_revenue_alpes.rename(columns={\"revenue\":\"alpes\"}, inplace=True)\n",
    "df_csv_revenue_alpes.drop(columns='region', inplace=True)\n",
    "\n",
    "#Provence-Alpes-Côte d'Azur\n",
    "df_csv_revenue_azur = df_csv_revenue[df_csv_revenue['region'] == \"Provence-Alpes-Côte d'Azur\"]\n",
    "df_csv_revenue_azur.rename(columns={\"revenue\":\"azur\"}, inplace=True)\n",
    "df_csv_revenue_azur.drop(columns='region', inplace=True)\n",
    "\n",
    "#Corse\n",
    "df_csv_revenue_corse = df_csv_revenue[df_csv_revenue['region'] == \"Corse\"]\n",
    "df_csv_revenue_corse.rename(columns={\"revenue\":\"corse\"}, inplace=True)\n",
    "df_csv_revenue_corse.drop(columns='region', inplace=True)"
   ]
  },
  {
   "cell_type": "code",
   "execution_count": 102,
   "metadata": {},
   "outputs": [],
   "source": [
    "df_tmp_viz2 = [df_csv_revenue_alpes, df_csv_revenue_azur, df_csv_revenue_bretagne, df_csv_revenue_corse, df_csv_revenue_idf]\n",
    "df_viz2 = reduce(lambda left,right: pd.merge(left,right,on='year'), df_tmp_viz2)"
   ]
  },
  {
   "cell_type": "code",
   "execution_count": 104,
   "metadata": {},
   "outputs": [],
   "source": [
    "#df_viz2.to_csv('viz2.csv')"
   ]
  },
  {
   "cell_type": "markdown",
   "metadata": {},
   "source": [
    "# Additional Information"
   ]
  },
  {
   "cell_type": "markdown",
   "metadata": {},
   "source": [
    "<u> list of ideas </u> :\n",
    "   - For every region, use an iconic element of this region, and do a \"pie-chart\" like version of it with gender/age\n",
    "   - Disease-like visualization (many points in a square) with the evolution of the gender/age over the years\n",
    "   - Violin plots for the distribution of the revenue over each region"
   ]
  },
  {
   "cell_type": "code",
   "execution_count": 26,
   "metadata": {},
   "outputs": [],
   "source": [
    "def correlation_matrix(df, method):\n",
    "    \n",
    "    \"\"\"\n",
    "    Method used for plotting a correlation matrix depending on the method asked.\n",
    "    \"\"\"\n",
    "    \n",
    "    fig = plt.figure()\n",
    "    ax1 = fig.add_subplot(111)\n",
    "    cmap = cm.get_cmap('jet', 30)\n",
    "    corr_matrix = df.corr(method)\n",
    "    cax = ax1.imshow(corr_matrix,interpolation=\"nearest\", cmap=cmap)\n",
    "    ax1.grid(True)\n",
    "    plt.title('Emo-DB Feature ' + method + ' Correlation')\n",
    "    labels = corr_matrix.columns\n",
    "    ax1.set_xticklabels(labels,fontsize=6)\n",
    "    ax1.set_yticklabels(labels,fontsize=6)\n",
    "    # Add colorbar, make sure to specify tick locations to match desired ticklabels\n",
    "    fig.colorbar(cax, ticks=[-0.25, 0,.25,.5,.75,1])\n",
    "    plt.show()"
   ]
  }
 ],
 "metadata": {
  "kernelspec": {
   "display_name": "Python 3",
   "language": "python",
   "name": "python3"
  },
  "language_info": {
   "codemirror_mode": {
    "name": "ipython",
    "version": 3
   },
   "file_extension": ".py",
   "mimetype": "text/x-python",
   "name": "python",
   "nbconvert_exporter": "python",
   "pygments_lexer": "ipython3",
   "version": "3.7.7"
  }
 },
 "nbformat": 4,
 "nbformat_minor": 4
}
