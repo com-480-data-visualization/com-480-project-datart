{
 "cells": [
  {
   "cell_type": "code",
   "execution_count": 1,
   "metadata": {},
   "outputs": [],
   "source": [
    "import os\n",
    "import time\n",
    "\n",
    "import pandas as pd\n",
    "import numpy as np\n",
    "import matplotlib.pyplot as plt\n",
    "import seaborn as sns\n",
    "\n",
    "from matplotlib import cm as cm"
   ]
  },
  {
   "cell_type": "markdown",
   "metadata": {},
   "source": [
    "# Processing the data"
   ]
  },
  {
   "cell_type": "code",
   "execution_count": 2,
   "metadata": {},
   "outputs": [],
   "source": [
    "df_pop_reg_2002 = pd.read_excel('estim-pop-nreg-sexe-gca-1975-2020.xls', header=[0,1], sheet_name='2002')\n",
    "df_pop_reg_2003 = pd.read_excel('estim-pop-nreg-sexe-gca-1975-2020.xls', header=[0,1], sheet_name='2003')\n",
    "df_pop_reg_2004 = pd.read_excel('estim-pop-nreg-sexe-gca-1975-2020.xls', header=[0,1], sheet_name='2004')\n",
    "df_pop_reg_2005 = pd.read_excel('estim-pop-nreg-sexe-gca-1975-2020.xls', header=[0,1], sheet_name='2005')\n",
    "df_pop_reg_2006 = pd.read_excel('estim-pop-nreg-sexe-gca-1975-2020.xls', header=[0,1], sheet_name='2006')\n",
    "df_pop_reg_2007 = pd.read_excel('estim-pop-nreg-sexe-gca-1975-2020.xls', header=[0,1], sheet_name='2007')\n",
    "df_pop_reg_2008 = pd.read_excel('estim-pop-nreg-sexe-gca-1975-2020.xls', header=[0,1], sheet_name='2008')\n",
    "df_pop_reg_2009 = pd.read_excel('estim-pop-nreg-sexe-gca-1975-2020.xls', header=[0,1], sheet_name='2009')\n",
    "df_pop_reg_2010 = pd.read_excel('estim-pop-nreg-sexe-gca-1975-2020.xls', header=[0,1], sheet_name='2010')\n",
    "df_pop_reg_2011 = pd.read_excel('estim-pop-nreg-sexe-gca-1975-2020.xls', header=[0,1], sheet_name='2011')\n",
    "df_pop_reg_2012 = pd.read_excel('estim-pop-nreg-sexe-gca-1975-2020.xls', header=[0,1], sheet_name='2012')\n",
    "df_pop_reg_2013 = pd.read_excel('estim-pop-nreg-sexe-gca-1975-2020.xls', header=[0,1], sheet_name='2013')\n",
    "df_pop_reg_2014 = pd.read_excel('estim-pop-nreg-sexe-gca-1975-2020.xls', header=[0,1], sheet_name='2014')\n",
    "df_pop_reg_2015 = pd.read_excel('estim-pop-nreg-sexe-gca-1975-2020.xls', header=[0,1], sheet_name='2015')\n",
    "df_pop_reg_2016 = pd.read_excel('estim-pop-nreg-sexe-gca-1975-2020.xls', header=[0,1], sheet_name='2016')\n",
    "df_pop_reg_2017 = pd.read_excel('estim-pop-nreg-sexe-gca-1975-2020.xls', header=[0,1], sheet_name='2017')"
   ]
  },
  {
   "cell_type": "code",
   "execution_count": 3,
   "metadata": {},
   "outputs": [],
   "source": [
    "df_pop_reg_2002['year'] = '2002' \n",
    "df_pop_reg_2003['year'] = '2003' \n",
    "df_pop_reg_2004['year'] = '2004' \n",
    "df_pop_reg_2005['year'] = '2005' \n",
    "df_pop_reg_2006['year'] = '2006' \n",
    "df_pop_reg_2007['year'] = '2007' \n",
    "df_pop_reg_2008['year'] = '2008' \n",
    "df_pop_reg_2009['year'] = '2009' \n",
    "df_pop_reg_2010['year'] = '2010' \n",
    "df_pop_reg_2011['year'] = '2011' \n",
    "df_pop_reg_2012['year'] = '2012' \n",
    "df_pop_reg_2013['year'] = '2013' \n",
    "df_pop_reg_2014['year'] = '2014' \n",
    "df_pop_reg_2015['year'] = '2015'\n",
    "df_pop_reg_2016['year'] = '2015'\n",
    "df_pop_reg_2017['year'] = '2015'"
   ]
  },
  {
   "cell_type": "code",
   "execution_count": 4,
   "metadata": {},
   "outputs": [],
   "source": [
    "df_pop_reg = pd.concat([df_pop_reg_2002, df_pop_reg_2003, df_pop_reg_2004, df_pop_reg_2005, df_pop_reg_2006, df_pop_reg_2007, df_pop_reg_2008,\n",
    "                    df_pop_reg_2009, df_pop_reg_2010, df_pop_reg_2011, df_pop_reg_2012, df_pop_reg_2013, df_pop_reg_2014, df_pop_reg_2015, \n",
    "                    df_pop_reg_2016, df_pop_reg_2017], ignore_index=True)"
   ]
  },
  {
   "cell_type": "code",
   "execution_count": 5,
   "metadata": {},
   "outputs": [
    {
     "data": {
      "text/html": [
       "<div>\n",
       "<style scoped>\n",
       "    .dataframe tbody tr th:only-of-type {\n",
       "        vertical-align: middle;\n",
       "    }\n",
       "\n",
       "    .dataframe tbody tr th {\n",
       "        vertical-align: top;\n",
       "    }\n",
       "\n",
       "    .dataframe thead tr th {\n",
       "        text-align: left;\n",
       "    }\n",
       "</style>\n",
       "<table border=\"1\" class=\"dataframe\">\n",
       "  <thead>\n",
       "    <tr>\n",
       "      <th></th>\n",
       "      <th>Régions</th>\n",
       "      <th colspan=\"6\" halign=\"left\">Ensemble</th>\n",
       "      <th colspan=\"6\" halign=\"left\">Hommes</th>\n",
       "      <th colspan=\"6\" halign=\"left\">Femmes</th>\n",
       "      <th>year</th>\n",
       "    </tr>\n",
       "    <tr>\n",
       "      <th></th>\n",
       "      <th>Unnamed: 0_level_1</th>\n",
       "      <th>0 à 19 ans</th>\n",
       "      <th>20 à 39 ans</th>\n",
       "      <th>40 à 59 ans</th>\n",
       "      <th>60 à 74 ans</th>\n",
       "      <th>75 ans et plus</th>\n",
       "      <th>Total</th>\n",
       "      <th>0 à 19 ans</th>\n",
       "      <th>20 à 39 ans</th>\n",
       "      <th>40 à 59 ans</th>\n",
       "      <th>60 à 74 ans</th>\n",
       "      <th>75 ans et plus</th>\n",
       "      <th>Total</th>\n",
       "      <th>0 à 19 ans</th>\n",
       "      <th>20 à 39 ans</th>\n",
       "      <th>40 à 59 ans</th>\n",
       "      <th>60 à 74 ans</th>\n",
       "      <th>75 ans et plus</th>\n",
       "      <th>Total</th>\n",
       "      <th></th>\n",
       "    </tr>\n",
       "  </thead>\n",
       "  <tbody>\n",
       "    <tr>\n",
       "      <td>85</td>\n",
       "      <td>Grand Est</td>\n",
       "      <td>1361904</td>\n",
       "      <td>1461516</td>\n",
       "      <td>1554987</td>\n",
       "      <td>689611</td>\n",
       "      <td>422074</td>\n",
       "      <td>5490092</td>\n",
       "      <td>697214</td>\n",
       "      <td>737346</td>\n",
       "      <td>773360</td>\n",
       "      <td>322187</td>\n",
       "      <td>147873</td>\n",
       "      <td>2677980</td>\n",
       "      <td>664690</td>\n",
       "      <td>724170</td>\n",
       "      <td>781627</td>\n",
       "      <td>367424</td>\n",
       "      <td>274201</td>\n",
       "      <td>2812112</td>\n",
       "      <td>2006</td>\n",
       "    </tr>\n",
       "    <tr>\n",
       "      <td>12</td>\n",
       "      <td>Provence-Alpes-Côte d'Azur</td>\n",
       "      <td>1111519</td>\n",
       "      <td>1191444</td>\n",
       "      <td>1237197</td>\n",
       "      <td>676524</td>\n",
       "      <td>412812</td>\n",
       "      <td>4629496</td>\n",
       "      <td>569720</td>\n",
       "      <td>583537</td>\n",
       "      <td>597864</td>\n",
       "      <td>312401</td>\n",
       "      <td>150981</td>\n",
       "      <td>2214503</td>\n",
       "      <td>541799</td>\n",
       "      <td>607907</td>\n",
       "      <td>639333</td>\n",
       "      <td>364123</td>\n",
       "      <td>261831</td>\n",
       "      <td>2414993</td>\n",
       "      <td>2002</td>\n",
       "    </tr>\n",
       "    <tr>\n",
       "      <td>303</td>\n",
       "      <td>Auvergne-Rhône-Alpes</td>\n",
       "      <td>1948161</td>\n",
       "      <td>1907775</td>\n",
       "      <td>2087303</td>\n",
       "      <td>1270141</td>\n",
       "      <td>734907</td>\n",
       "      <td>7948287</td>\n",
       "      <td>997234</td>\n",
       "      <td>948780</td>\n",
       "      <td>1034817</td>\n",
       "      <td>601808</td>\n",
       "      <td>282054</td>\n",
       "      <td>3864693</td>\n",
       "      <td>950927</td>\n",
       "      <td>958995</td>\n",
       "      <td>1052486</td>\n",
       "      <td>668333</td>\n",
       "      <td>452853</td>\n",
       "      <td>4083594</td>\n",
       "      <td>2015</td>\n",
       "    </tr>\n",
       "  </tbody>\n",
       "</table>\n",
       "</div>"
      ],
      "text/plain": [
       "                        Régions   Ensemble                          \\\n",
       "             Unnamed: 0_level_1 0 à 19 ans 20 à 39 ans 40 à 59 ans   \n",
       "85                    Grand Est    1361904     1461516     1554987   \n",
       "12   Provence-Alpes-Côte d'Azur    1111519     1191444     1237197   \n",
       "303        Auvergne-Rhône-Alpes    1948161     1907775     2087303   \n",
       "\n",
       "                                            Hommes                          \\\n",
       "    60 à 74 ans 75 ans et plus    Total 0 à 19 ans 20 à 39 ans 40 à 59 ans   \n",
       "85       689611         422074  5490092     697214      737346      773360   \n",
       "12       676524         412812  4629496     569720      583537      597864   \n",
       "303     1270141         734907  7948287     997234      948780     1034817   \n",
       "\n",
       "                                            Femmes                          \\\n",
       "    60 à 74 ans 75 ans et plus    Total 0 à 19 ans 20 à 39 ans 40 à 59 ans   \n",
       "85       322187         147873  2677980     664690      724170      781627   \n",
       "12       312401         150981  2214503     541799      607907      639333   \n",
       "303      601808         282054  3864693     950927      958995     1052486   \n",
       "\n",
       "                                         year  \n",
       "    60 à 74 ans 75 ans et plus    Total        \n",
       "85       367424         274201  2812112  2006  \n",
       "12       364123         261831  2414993  2002  \n",
       "303      668333         452853  4083594  2015  "
      ]
     },
     "execution_count": 5,
     "metadata": {},
     "output_type": "execute_result"
    }
   ],
   "source": [
    "df_pop_reg.sample(3)"
   ]
  },
  {
   "cell_type": "code",
   "execution_count": 6,
   "metadata": {},
   "outputs": [],
   "source": [
    "df_rdb_2002 = pd.read_excel('rdb-regions-menages-1994-2015.xls', sheet_name='RDB2002-Déf par hab')\n",
    "df_rdb_2003 = pd.read_excel('rdb-regions-menages-1994-2015.xls', sheet_name='RDB2003-Déf par hab')\n",
    "df_rdb_2004 = pd.read_excel('rdb-regions-menages-1994-2015.xls', sheet_name='RDB2004-Déf par hab')\n",
    "df_rdb_2005 = pd.read_excel('rdb-regions-menages-1994-2015.xls', sheet_name='RDB2005-Déf par hab')\n",
    "df_rdb_2006 = pd.read_excel('rdb-regions-menages-1994-2015.xls', sheet_name='RDB2006-Déf par hab')\n",
    "df_rdb_2007 = pd.read_excel('rdb-regions-menages-1994-2015.xls', sheet_name='RDB2007-Déf par hab')\n",
    "df_rdb_2008 = pd.read_excel('rdb-regions-menages-1994-2015.xls', sheet_name='RDB2008-Déf par hab')\n",
    "df_rdb_2009 = pd.read_excel('rdb-regions-menages-1994-2015.xls', sheet_name='RDB2009-Déf par hab')\n",
    "df_rdb_2010 = pd.read_excel('rdb-regions-menages-1994-2015.xls', sheet_name='RDB2010-Déf par hab')\n",
    "df_rdb_2011 = pd.read_excel('rdb-regions-menages-1994-2015.xls', sheet_name='RDB2011-Def par hab')\n",
    "df_rdb_2012 = pd.read_excel('rdb-regions-menages-1994-2015.xls', sheet_name='RDB2012-Déf par hab')\n",
    "df_rdb_2013 = pd.read_excel('rdb-regions-menages-1994-2015.xls', sheet_name='RDB2013-déf par hab')\n",
    "df_rdb_2014 = pd.read_excel('rdb-regions-menages-1994-2015.xls', sheet_name='RDB2014-déf par hab')\n",
    "df_rdb_2015 = pd.read_excel('rdb-regions-menages-1994-2015.xls', sheet_name='RDB2015-semidéf par hab')"
   ]
  },
  {
   "cell_type": "code",
   "execution_count": 7,
   "metadata": {},
   "outputs": [],
   "source": [
    "df_rdb_2002['year'] = '2002' \n",
    "df_rdb_2003['year'] = '2003' \n",
    "df_rdb_2004['year'] = '2004' \n",
    "df_rdb_2005['year'] = '2005' \n",
    "df_rdb_2006['year'] = '2006' \n",
    "df_rdb_2007['year'] = '2007' \n",
    "df_rdb_2008['year'] = '2008' \n",
    "df_rdb_2009['year'] = '2009' \n",
    "df_rdb_2010['year'] = '2010' \n",
    "df_rdb_2011['year'] = '2011' \n",
    "df_rdb_2012['year'] = '2012' \n",
    "df_rdb_2013['year'] = '2013' \n",
    "df_rdb_2014['year'] = '2014' \n",
    "df_rdb_2015['year'] = '2015' "
   ]
  },
  {
   "cell_type": "code",
   "execution_count": 8,
   "metadata": {},
   "outputs": [],
   "source": [
    "df_rdb = pd.concat([df_rdb_2002, df_rdb_2003, df_rdb_2004, df_rdb_2005, df_rdb_2006, df_rdb_2007, df_rdb_2008, df_rdb_2009, df_rdb_2010,\n",
    "                   df_rdb_2011, df_rdb_2012, df_rdb_2013, df_rdb_2014, df_rdb_2015], ignore_index=True)"
   ]
  },
  {
   "cell_type": "code",
   "execution_count": 9,
   "metadata": {},
   "outputs": [
    {
     "data": {
      "text/html": [
       "<div>\n",
       "<style scoped>\n",
       "    .dataframe tbody tr th:only-of-type {\n",
       "        vertical-align: middle;\n",
       "    }\n",
       "\n",
       "    .dataframe tbody tr th {\n",
       "        vertical-align: top;\n",
       "    }\n",
       "\n",
       "    .dataframe thead th {\n",
       "        text-align: right;\n",
       "    }\n",
       "</style>\n",
       "<table border=\"1\" class=\"dataframe\">\n",
       "  <thead>\n",
       "    <tr style=\"text-align: right;\">\n",
       "      <th></th>\n",
       "      <th>Régions</th>\n",
       "      <th>Excédent brut et revenu mixte</th>\n",
       "      <th>Salaires et traitements bruts</th>\n",
       "      <th>Cotisations sociales des salariés et des non-salariés</th>\n",
       "      <th>Impôts</th>\n",
       "      <th>Prestations en espèces</th>\n",
       "      <th>Autres (1)</th>\n",
       "      <th>Revenu disponible brut</th>\n",
       "      <th>year</th>\n",
       "    </tr>\n",
       "  </thead>\n",
       "  <tbody>\n",
       "    <tr>\n",
       "      <td>257</td>\n",
       "      <td>Corse</td>\n",
       "      <td>5278.0</td>\n",
       "      <td>10348.0</td>\n",
       "      <td>1948.0</td>\n",
       "      <td>2847.0</td>\n",
       "      <td>6370.0</td>\n",
       "      <td>1926.0</td>\n",
       "      <td>19127.0</td>\n",
       "      <td>2013</td>\n",
       "    </tr>\n",
       "    <tr>\n",
       "      <td>241</td>\n",
       "      <td>Pays de la Loire</td>\n",
       "      <td>3890.0</td>\n",
       "      <td>11317.0</td>\n",
       "      <td>1955.0</td>\n",
       "      <td>2559.0</td>\n",
       "      <td>7056.0</td>\n",
       "      <td>1442.0</td>\n",
       "      <td>19191.0</td>\n",
       "      <td>2012</td>\n",
       "    </tr>\n",
       "    <tr>\n",
       "      <td>206</td>\n",
       "      <td>France (France métropolitaine+DOM+Hors territo...</td>\n",
       "      <td>4323.0</td>\n",
       "      <td>11962.0</td>\n",
       "      <td>2024.0</td>\n",
       "      <td>2671.0</td>\n",
       "      <td>6455.0</td>\n",
       "      <td>1738.0</td>\n",
       "      <td>19783.0</td>\n",
       "      <td>2010</td>\n",
       "    </tr>\n",
       "  </tbody>\n",
       "</table>\n",
       "</div>"
      ],
      "text/plain": [
       "                                               Régions  \\\n",
       "257                                              Corse   \n",
       "241                                   Pays de la Loire   \n",
       "206  France (France métropolitaine+DOM+Hors territo...   \n",
       "\n",
       "     Excédent brut et revenu mixte  Salaires et traitements bruts  \\\n",
       "257                         5278.0                        10348.0   \n",
       "241                         3890.0                        11317.0   \n",
       "206                         4323.0                        11962.0   \n",
       "\n",
       "     Cotisations sociales des salariés et des non-salariés  \\\n",
       "257                                             1948.0       \n",
       "241                                             1955.0       \n",
       "206                                             2024.0       \n",
       "\n",
       "     Impôts                 Prestations en espèces  Autres (1)  \\\n",
       "257                 2847.0                  6370.0      1926.0   \n",
       "241                 2559.0                  7056.0      1442.0   \n",
       "206                 2671.0                  6455.0      1738.0   \n",
       "\n",
       "     Revenu disponible brut  year  \n",
       "257                 19127.0  2013  \n",
       "241                 19191.0  2012  \n",
       "206                 19783.0  2010  "
      ]
     },
     "execution_count": 9,
     "metadata": {},
     "output_type": "execute_result"
    }
   ],
   "source": [
    "df_rdb.sample(3)"
   ]
  },
  {
   "cell_type": "markdown",
   "metadata": {},
   "source": [
    "# Analysis on Population"
   ]
  },
  {
   "cell_type": "code",
   "execution_count": 12,
   "metadata": {},
   "outputs": [],
   "source": [
    "df_pop_reg_men = df_pop_reg[['Hommes', 'Régions', 'year']]\n",
    "df_pop_reg_women = df_pop_reg[['Femmes', 'Régions', 'year']]\n",
    "df_pop_reg_all = df_pop_reg[['Ensemble', 'Régions', 'year']]"
   ]
  },
  {
   "cell_type": "code",
   "execution_count": 13,
   "metadata": {},
   "outputs": [],
   "source": [
    "def process_pop(df):\n",
    "    tmp = df.copy()\n",
    "    tmp.columns = tmp.columns.droplevel()\n",
    "    tmp = tmp.rename(columns={'Unnamed: 0_level_1':'region', '':'year'})\n",
    "    return tmp"
   ]
  },
  {
   "cell_type": "code",
   "execution_count": 14,
   "metadata": {},
   "outputs": [],
   "source": [
    "df_pop_reg_men = process_pop(df_pop_reg_men)\n",
    "df_pop_reg_women = process_pop(df_pop_reg_women)\n",
    "df_pop_reg_all = process_pop(df_pop_reg_all)"
   ]
  },
  {
   "cell_type": "code",
   "execution_count": 15,
   "metadata": {},
   "outputs": [],
   "source": [
    "df_pop_reg_men['gender'] = 'male'\n",
    "df_pop_reg_women['gender'] = 'female'\n",
    "\n",
    "df_pop_reg_joined = pd.concat([df_pop_reg_men, df_pop_reg_women], ignore_index=True )"
   ]
  },
  {
   "cell_type": "code",
   "execution_count": 16,
   "metadata": {},
   "outputs": [
    {
     "data": {
      "text/html": [
       "<div>\n",
       "<style scoped>\n",
       "    .dataframe tbody tr th:only-of-type {\n",
       "        vertical-align: middle;\n",
       "    }\n",
       "\n",
       "    .dataframe tbody tr th {\n",
       "        vertical-align: top;\n",
       "    }\n",
       "\n",
       "    .dataframe thead th {\n",
       "        text-align: right;\n",
       "    }\n",
       "</style>\n",
       "<table border=\"1\" class=\"dataframe\">\n",
       "  <thead>\n",
       "    <tr style=\"text-align: right;\">\n",
       "      <th></th>\n",
       "      <th>0 à 19 ans</th>\n",
       "      <th>20 à 39 ans</th>\n",
       "      <th>40 à 59 ans</th>\n",
       "      <th>60 à 74 ans</th>\n",
       "      <th>75 ans et plus</th>\n",
       "      <th>Total</th>\n",
       "      <th>region</th>\n",
       "      <th>year</th>\n",
       "      <th>gender</th>\n",
       "    </tr>\n",
       "  </thead>\n",
       "  <tbody>\n",
       "    <tr>\n",
       "      <td>431</td>\n",
       "      <td>1480965</td>\n",
       "      <td>1784919</td>\n",
       "      <td>1618036</td>\n",
       "      <td>650487</td>\n",
       "      <td>462048</td>\n",
       "      <td>5996455</td>\n",
       "      <td>Île-de-France</td>\n",
       "      <td>2007</td>\n",
       "      <td>female</td>\n",
       "    </tr>\n",
       "    <tr>\n",
       "      <td>646</td>\n",
       "      <td>346985</td>\n",
       "      <td>271044</td>\n",
       "      <td>302042</td>\n",
       "      <td>136880</td>\n",
       "      <td>67967</td>\n",
       "      <td>1124918</td>\n",
       "      <td>DOM</td>\n",
       "      <td>2015</td>\n",
       "      <td>female</td>\n",
       "    </tr>\n",
       "    <tr>\n",
       "      <td>501</td>\n",
       "      <td>135876</td>\n",
       "      <td>119207</td>\n",
       "      <td>112904</td>\n",
       "      <td>38009</td>\n",
       "      <td>17187</td>\n",
       "      <td>423183</td>\n",
       "      <td>La Réunion</td>\n",
       "      <td>2010</td>\n",
       "      <td>female</td>\n",
       "    </tr>\n",
       "  </tbody>\n",
       "</table>\n",
       "</div>"
      ],
      "text/plain": [
       "     0 à 19 ans  20 à 39 ans  40 à 59 ans  60 à 74 ans  75 ans et plus  \\\n",
       "431     1480965      1784919      1618036       650487          462048   \n",
       "646      346985       271044       302042       136880           67967   \n",
       "501      135876       119207       112904        38009           17187   \n",
       "\n",
       "       Total         region  year  gender  \n",
       "431  5996455  Île-de-France  2007  female  \n",
       "646  1124918            DOM  2015  female  \n",
       "501   423183     La Réunion  2010  female  "
      ]
     },
     "execution_count": 16,
     "metadata": {},
     "output_type": "execute_result"
    }
   ],
   "source": [
    "df_pop_reg_joined.sample(3)"
   ]
  },
  {
   "cell_type": "code",
   "execution_count": 17,
   "metadata": {},
   "outputs": [],
   "source": [
    "# Gender & Region\n",
    "tmp_gr = df_pop_reg_joined.groupby(['gender', 'year', 'region'])['Total'].sum()\n",
    "gr = pd.DataFrame(tmp_gr).reset_index()"
   ]
  },
  {
   "cell_type": "code",
   "execution_count": 18,
   "metadata": {},
   "outputs": [],
   "source": [
    "tmp_total = df_pop_reg_joined.groupby(['year'])['Total'].sum()\n",
    "total = pd.DataFrame(tmp_total).reset_index()"
   ]
  },
  {
   "cell_type": "code",
   "execution_count": 19,
   "metadata": {},
   "outputs": [
    {
     "data": {
      "image/png": "[encoded data removed]",
      "text/plain": [
       "<Figure size 432x288 with 1 Axes>"
      ]
     },
     "metadata": {
      "needs_background": "light"
     },
     "output_type": "display_data"
    }
   ],
   "source": [
    "fig = total.plot(x='year', y='Total', kind='line')\n",
    "plt.rcParams['axes.facecolor'] = 'white'\n",
    "plt.title('Evolution of Population over the years')\n",
    "plt.xlabel(\"years\")\n",
    "plt.ylabel(\"Number of inhabitants\")\n",
    "plt.show();"
   ]
  },
  {
   "cell_type": "code",
   "execution_count": 20,
   "metadata": {},
   "outputs": [
    {
     "data": {
      "image/png": "[encoded data removed]",
      "text/plain": [
       "<Figure size 432x288 with 2 Axes>"
      ]
     },
     "metadata": {
      "needs_background": "light"
     },
     "output_type": "display_data"
    }
   ],
   "source": [
    "# plot the heatmap on Seaborn\n",
    "corr = df_pop_reg_joined.corr()\n",
    "sns.heatmap(corr,\n",
    "xticklabels=corr.columns,\n",
    "yticklabels=corr.columns);"
   ]
  },
  {
   "cell_type": "markdown",
   "metadata": {},
   "source": [
    "# Analysis on Revenue"
   ]
  },
  {
   "cell_type": "code",
   "execution_count": 21,
   "metadata": {},
   "outputs": [],
   "source": [
    "revenue_per_region = df_rdb.groupby(['Régions', 'year'])['Revenu disponible brut'].mean()"
   ]
  },
  {
   "cell_type": "code",
   "execution_count": 22,
   "metadata": {},
   "outputs": [],
   "source": [
    "rpg = pd.DataFrame(revenue_per_region).reset_index()"
   ]
  },
  {
   "cell_type": "code",
   "execution_count": 23,
   "metadata": {},
   "outputs": [],
   "source": [
    "rpg_year = rpg.groupby('year').mean().reset_index()\n",
    "rpg_region = rpg.groupby('Régions').mean().reset_index()"
   ]
  },
  {
   "cell_type": "code",
   "execution_count": 24,
   "metadata": {},
   "outputs": [
    {
     "data": {
      "image/png": "[encoded data removed]",
      "text/plain": [
       "<Figure size 432x288 with 1 Axes>"
      ]
     },
     "metadata": {
      "needs_background": "light"
     },
     "output_type": "display_data"
    }
   ],
   "source": [
    "fig = rpg_year.plot(x='year', y='Revenu disponible brut', kind='line')\n",
    "plt.rcParams['axes.facecolor'] = 'white'\n",
    "plt.title('Evolution of the Mean Revenue over the years')\n",
    "plt.xlabel(\"years\")\n",
    "plt.ylabel(\"Revenue per inhabitant\")\n",
    "plt.show();"
   ]
  },
  {
   "cell_type": "code",
   "execution_count": 25,
   "metadata": {},
   "outputs": [
    {
     "data": {
      "image/png": "[encoded data removed]",
      "text/plain": [
       "<Figure size 432x288 with 1 Axes>"
      ]
     },
     "metadata": {
      "needs_background": "light"
     },
     "output_type": "display_data"
    }
   ],
   "source": [
    "fig = rpg_region.plot(x='Régions', y='Revenu disponible brut', kind='barh')\n",
    "plt.rcParams['axes.facecolor'] = 'white'\n",
    "plt.title('Mean Revenue per region (between 2002 and 2015)')\n",
    "plt.xlabel(\"Revenue per inhabitant\")\n",
    "plt.ylabel(\"Regions\")\n",
    "plt.show();"
   ]
  },
  {
   "cell_type": "code",
   "execution_count": 26,
   "metadata": {},
   "outputs": [
    {
     "data": {
      "image/png": "[encoded data removed]",
      "text/plain": [
       "<Figure size 432x288 with 2 Axes>"
      ]
     },
     "metadata": {
      "needs_background": "light"
     },
     "output_type": "display_data"
    }
   ],
   "source": [
    "# plot the heatmap on Seaborn\n",
    "corr = df_rdb.corr()\n",
    "sns.heatmap(corr,\n",
    "xticklabels=corr.columns,\n",
    "yticklabels=corr.columns);"
   ]
  },
  {
   "cell_type": "markdown",
   "metadata": {},
   "source": [
    "# Additional Information"
   ]
  },
  {
   "cell_type": "markdown",
   "metadata": {},
   "source": [
    "<u> list of ideas </u> :\n",
    "\n",
    "    - for every region, use an iconic element of this region, and do a \"pie-chart\" like version of it with gender/age\n",
    "    - a disease-like visualization (many points in a square) with the evolution of the gender/age over the years\n",
    "    - violin plots for the distribution of the revenue over each region"
   ]
  },
  {
   "cell_type": "code",
   "execution_count": 27,
   "metadata": {},
   "outputs": [],
   "source": [
    "def correlation_matrix(df, method):\n",
    "    \n",
    "    \"\"\"\n",
    "    Method used for plotting a correlation matrix depending on the method asked.\n",
    "    \"\"\"\n",
    "    \n",
    "    fig = plt.figure()\n",
    "    ax1 = fig.add_subplot(111)\n",
    "    cmap = cm.get_cmap('jet', 30)\n",
    "    corr_matrix = df.corr(method)\n",
    "    cax = ax1.imshow(corr_matrix,interpolation=\"nearest\", cmap=cmap)\n",
    "    ax1.grid(True)\n",
    "    plt.title('Emo-DB Feature ' + method + ' Correlation')\n",
    "    labels = corr_matrix.columns\n",
    "    ax1.set_xticklabels(labels,fontsize=6)\n",
    "    ax1.set_yticklabels(labels,fontsize=6)\n",
    "    # Add colorbar, make sure to specify tick locations to match desired ticklabels\n",
    "    fig.colorbar(cax, ticks=[-0.25, 0,.25,.5,.75,1])\n",
    "    plt.show()"
   ]
  },
  {
   "cell_type": "code",
   "execution_count": null,
   "metadata": {},
   "outputs": [],
   "source": []
  }
 ],
 "metadata": {
  "kernelspec": {
   "display_name": "Python 3",
   "language": "python",
   "name": "python3"
  },
  "language_info": {
   "codemirror_mode": {
    "name": "ipython",
    "version": 3
   },
   "file_extension": ".py",
   "mimetype": "text/x-python",
   "name": "python",
   "nbconvert_exporter": "python",
   "pygments_lexer": "ipython3",
   "version": "3.7.4"
  }
 },
 "nbformat": 4,
 "nbformat_minor": 4
}
